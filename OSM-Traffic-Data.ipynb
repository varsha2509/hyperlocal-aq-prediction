{
 "cells": [
  {
   "cell_type": "markdown",
   "metadata": {},
   "source": [
    "<b> <font size = 5> Intersection count and distance to highway data from Open Street Maps </b> </font>"
   ]
  },
  {
   "cell_type": "markdown",
   "metadata": {},
   "source": [
    "In this iPython notebook, the Overpass API from Open Street Maps is used to determine the location of all traffic signals within a given bounding box. The Overpy library is used to send the request to the API and this call returns the latitude and longitude of all traffic signals. Next, the distance between each traffic intersection and each point in the monitoring data is measured. A traffic score is calculated as the 'Number of traffic intersections within a 1,000 ft buffer' to each point in the monitoring data\n",
    "\n",
    "The second section of this notebook uses the Overpass API to get the latitude and longitude of all points within a bounding box classified as a highway. Next, the distance from each monitoring location to the closest highway is determined. "
   ]
  },
  {
   "cell_type": "code",
   "execution_count": 5,
   "metadata": {},
   "outputs": [],
   "source": [
    "#Import python packages including overpy\n",
    "import overpy\n",
    "import pandas as pd\n",
    "import numpy as np\n",
    "import matplotlib.pyplot as plt\n",
    "import descartes\n",
    "import geopandas as gpd\n",
    "from shapely.geometry import Point, Polygon\n",
    "from shapely.ops import nearest_points\n",
    "\n",
    "import seaborn as sns\n",
    "\n",
    "from mpl_toolkits.axes_grid1 import make_axes_locatable\n",
    "\n",
    "import math\n",
    "\n",
    "import time\n",
    "\n",
    "\n",
    "from scipy.stats import boxcox\n",
    "\n",
    "\n",
    "from matplotlib import cm\n",
    "\n",
    "import matplotlib.lines as mlines\n",
    "\n",
    "sns.set(style = 'whitegrid')\n",
    "sns.set_palette('bright')\n",
    "%matplotlib inline"
   ]
  },
  {
   "cell_type": "markdown",
   "metadata": {},
   "source": [
    "# <b> <font size = 5> Fetch all nodes using the API Query. Here the node is specified as 'Highway=traffic_signals' </b> </font> "
   ]
  },
  {
   "cell_type": "code",
   "execution_count": 7,
   "metadata": {},
   "outputs": [],
   "source": [
    "#Call overpass API and pass bounding box. \n",
    "api = overpy.Overpass()\n",
    "result = api.query(\"\"\"\n",
    "    node(37.68,-122.36,37.8712,-122.03) [\"highway\"=\"traffic_signals\"];\n",
    "    (._;>;);\n",
    "    out body;\n",
    "    \"\"\")\n",
    "traffic_lat = []\n",
    "traffic_lon = []\n",
    "for node in result.nodes:\n",
    "    traffic_lat.append(node.lat)\n",
    "    traffic_lon.append(node.lon)\n"
   ]
  },
  {
   "cell_type": "code",
   "execution_count": 9,
   "metadata": {},
   "outputs": [],
   "source": [
    "#Write Latitude and Longitude data to a dataframe\n",
    "traffic_df = pd.DataFrame(list(zip(traffic_lat, traffic_lon)), columns = ['Latitude', 'Longitude'])"
   ]
  },
  {
   "cell_type": "markdown",
   "metadata": {},
   "source": [
    "##### Write to csv\n",
    "traffic_df.to_csv(\"Data/Raw-data/all_traffic_intersections.csv\")"
   ]
  },
  {
   "cell_type": "markdown",
   "metadata": {},
   "source": [
    "# <b> <font size = 5>  Load traffic intersection data</b> </font>"
   ]
  },
  {
   "cell_type": "code",
   "execution_count": 11,
   "metadata": {},
   "outputs": [],
   "source": [
    "traffic_df = pd.read_csv(\"Data/Raw-data/all_traffic_intersections.csv\")"
   ]
  },
  {
   "cell_type": "code",
   "execution_count": 12,
   "metadata": {},
   "outputs": [],
   "source": [
    "#Drop the first column\n",
    "traffic_df.drop(columns = ['Unnamed: 0'], inplace=True)"
   ]
  },
  {
   "cell_type": "code",
   "execution_count": 13,
   "metadata": {},
   "outputs": [],
   "source": [
    "## Rename index and intersection number\n",
    "traffic_df.rename(columns = {'index':'Intersection'}, inplace=True)"
   ]
  },
  {
   "cell_type": "code",
   "execution_count": 14,
   "metadata": {},
   "outputs": [
    {
     "data": {
      "text/plain": [
       "0       0.0\n",
       "1       0.0\n",
       "2       0.0\n",
       "3       0.0\n",
       "4       0.0\n",
       "       ... \n",
       "1631    0.0\n",
       "1632    0.0\n",
       "1633    0.0\n",
       "1634    0.0\n",
       "1635    0.0\n",
       "Name: dist, Length: 1636, dtype: float64"
      ]
     },
     "execution_count": 14,
     "metadata": {},
     "output_type": "execute_result"
    }
   ],
   "source": [
    "### Add an empty column for distance\n",
    "traffic_df['dist'] = 0\n",
    "traffic_df['dist'].astype(float)"
   ]
  },
  {
   "cell_type": "markdown",
   "metadata": {},
   "source": [
    "## <b> <font size  = 4> Convert traffic dataset into a column format to calculate distance </b> </font>"
   ]
  },
  {
   "cell_type": "code",
   "execution_count": null,
   "metadata": {},
   "outputs": [],
   "source": [
    "# Create individual dataframes\n",
    "traffic_lat = traffic_df[['Intersection', 'Latitude']]\n",
    "traffic_long = traffic_df[['Intersection', 'Longitude']]\n",
    "traffic_dist = traffic_df[['Intersection', 'dist']]"
   ]
  },
  {
   "cell_type": "code",
   "execution_count": null,
   "metadata": {},
   "outputs": [],
   "source": [
    "# Transpose all the dataframes\n",
    "traffic_lat = traffic_lat.T\n",
    "traffic_long = traffic_long.T\n",
    "traffic_dist  = traffic_dist.T"
   ]
  },
  {
   "cell_type": "code",
   "execution_count": null,
   "metadata": {},
   "outputs": [],
   "source": [
    "## Make the header as the first row in each transposed dataframe\n",
    "traffic_lat = traffic_lat.rename(columns=traffic_lat.iloc[0].astype(int)).drop(traffic_lat.index[0])\n",
    "traffic_long = traffic_long.rename(columns=traffic_long.iloc[0].astype(int)).drop(traffic_long.index[0])\n",
    "traffic_dist = traffic_dist.rename(columns=traffic_dist.iloc[0].astype(int)).drop(traffic_dist.index[0])"
   ]
  },
  {
   "cell_type": "code",
   "execution_count": null,
   "metadata": {},
   "outputs": [],
   "source": [
    "## Add suffix to column header based on the dataframe type\n",
    "traffic_lat.columns = [str(col) + '_latitude' for col in traffic_lat.columns]\n",
    "traffic_long.columns = [str(col) + '_longitude' for col in traffic_long.columns]\n",
    "traffic_dist.columns = [str(col) + '_distance' for col in traffic_dist.columns]"
   ]
  },
  {
   "cell_type": "code",
   "execution_count": null,
   "metadata": {},
   "outputs": [],
   "source": [
    "## Remove index for each dataframe\n",
    "traffic_lat.reset_index(drop=True, inplace=True)\n",
    "traffic_long.reset_index(drop=True, inplace=True)\n",
    "traffic_dist.reset_index(drop=True, inplace=True)"
   ]
  },
  {
   "cell_type": "code",
   "execution_count": null,
   "metadata": {},
   "outputs": [],
   "source": [
    "### Combine individual dataframes into one\n",
    "traffic_combined = traffic_lat.join(traffic_long).join(traffic_dist)"
   ]
  },
  {
   "cell_type": "code",
   "execution_count": null,
   "metadata": {},
   "outputs": [],
   "source": [
    "### Sort based on column names\n",
    "traffic_combined = traffic_combined.reindex(columns=sorted(traffic_combined.columns))"
   ]
  },
  {
   "cell_type": "code",
   "execution_count": null,
   "metadata": {},
   "outputs": [],
   "source": [
    "#Update dataframe to contain 21488 rows\n",
    "traffic_combined = traffic_combined.loc[traffic_combined.index.repeat(21488)].reset_index(drop=True)"
   ]
  },
  {
   "cell_type": "markdown",
   "metadata": {},
   "source": [
    "# <b> <font size = 5> Load Air Pollution Monitoring Data </b> </font>"
   ]
  },
  {
   "cell_type": "code",
   "execution_count": 2,
   "metadata": {},
   "outputs": [
    {
     "data": {
      "text/html": [
       "<div>\n",
       "<style scoped>\n",
       "    .dataframe tbody tr th:only-of-type {\n",
       "        vertical-align: middle;\n",
       "    }\n",
       "\n",
       "    .dataframe tbody tr th {\n",
       "        vertical-align: top;\n",
       "    }\n",
       "\n",
       "    .dataframe thead th {\n",
       "        text-align: right;\n",
       "    }\n",
       "</style>\n",
       "<table border=\"1\" class=\"dataframe\">\n",
       "  <thead>\n",
       "    <tr style=\"text-align: right;\">\n",
       "      <th></th>\n",
       "      <th>Longitude</th>\n",
       "      <th>Latitude</th>\n",
       "      <th>NO Value</th>\n",
       "      <th>NO2 Value</th>\n",
       "      <th>BC Value</th>\n",
       "    </tr>\n",
       "  </thead>\n",
       "  <tbody>\n",
       "    <tr>\n",
       "      <td>21483</td>\n",
       "      <td>-122.034943</td>\n",
       "      <td>37.560076</td>\n",
       "      <td>129.999995</td>\n",
       "      <td>44.778220</td>\n",
       "      <td>3.923761</td>\n",
       "    </tr>\n",
       "    <tr>\n",
       "      <td>21484</td>\n",
       "      <td>-122.034724</td>\n",
       "      <td>37.560164</td>\n",
       "      <td>60.799998</td>\n",
       "      <td>39.027545</td>\n",
       "      <td>1.408693</td>\n",
       "    </tr>\n",
       "    <tr>\n",
       "      <td>21485</td>\n",
       "      <td>-122.034681</td>\n",
       "      <td>37.559830</td>\n",
       "      <td>34.622951</td>\n",
       "      <td>28.816797</td>\n",
       "      <td>2.659885</td>\n",
       "    </tr>\n",
       "    <tr>\n",
       "      <td>21486</td>\n",
       "      <td>-122.034504</td>\n",
       "      <td>37.559958</td>\n",
       "      <td>74.764705</td>\n",
       "      <td>35.735434</td>\n",
       "      <td>1.776353</td>\n",
       "    </tr>\n",
       "    <tr>\n",
       "      <td>21487</td>\n",
       "      <td>-122.034503</td>\n",
       "      <td>37.559957</td>\n",
       "      <td>78.754782</td>\n",
       "      <td>41.062757</td>\n",
       "      <td>2.014664</td>\n",
       "    </tr>\n",
       "  </tbody>\n",
       "</table>\n",
       "</div>"
      ],
      "text/plain": [
       "        Longitude   Latitude    NO Value  NO2 Value  BC Value\n",
       "21483 -122.034943  37.560076  129.999995  44.778220  3.923761\n",
       "21484 -122.034724  37.560164   60.799998  39.027545  1.408693\n",
       "21485 -122.034681  37.559830   34.622951  28.816797  2.659885\n",
       "21486 -122.034504  37.559958   74.764705  35.735434  1.776353\n",
       "21487 -122.034503  37.559957   78.754782  41.062757  2.014664"
      ]
     },
     "execution_count": 2,
     "metadata": {},
     "output_type": "execute_result"
    }
   ],
   "source": [
    "df = pd.read_csv('EDF_Data.csv', header = 1)\n",
    "df.tail()"
   ]
  },
  {
   "cell_type": "code",
   "execution_count": 3,
   "metadata": {},
   "outputs": [],
   "source": [
    "BC_df = df[['Longitude', 'Latitude', 'BC Value']]"
   ]
  },
  {
   "cell_type": "code",
   "execution_count": 4,
   "metadata": {},
   "outputs": [],
   "source": [
    "NO2_df = df[['Longitude', 'Latitude', 'NO2 Value']]"
   ]
  },
  {
   "cell_type": "markdown",
   "metadata": {},
   "source": [
    "## <b> <font size = 4> Combine BC and NO2 datasets with traffic data </b> </font> "
   ]
  },
  {
   "cell_type": "code",
   "execution_count": null,
   "metadata": {},
   "outputs": [],
   "source": [
    "combined_BC_traffic = BC_df.join(traffic_combined)"
   ]
  },
  {
   "cell_type": "code",
   "execution_count": null,
   "metadata": {},
   "outputs": [],
   "source": [
    "combined_NO2_traffic = NO2_df.join(traffic_combined)"
   ]
  },
  {
   "cell_type": "code",
   "execution_count": null,
   "metadata": {},
   "outputs": [],
   "source": [
    "combined_BC_traffic.head()"
   ]
  },
  {
   "cell_type": "markdown",
   "metadata": {},
   "source": [
    "## <b> <font size = 4> Calculate distance between monitoring location and each traffic intersection </b> </font> "
   ]
  },
  {
   "cell_type": "markdown",
   "metadata": {},
   "source": [
    "**We only calculate the distance from each monitoring location in the BC dataset with traffic intersections since the location of measurements are the same for NO2 and BC**"
   ]
  },
  {
   "cell_type": "code",
   "execution_count": null,
   "metadata": {},
   "outputs": [],
   "source": [
    "# Convert distance or emissions distance column to float type\n",
    "for idx, col in enumerate(combined_BC_traffic.columns):\n",
    "        if \"_dist\" in col:\n",
    "            combined_BC_traffic[col] = pd.to_numeric(combined_BC_traffic[col], downcast=\"float\")\n",
    "\n"
   ]
  },
  {
   "cell_type": "code",
   "execution_count": 24,
   "metadata": {},
   "outputs": [],
   "source": [
    "### Defining a function to calculate the distance between two GPS coordinates (latitude and longitude)\n",
    "def distance(origin, destination):\n",
    "    lat1, lon1 = origin\n",
    "    lat2, lon2 = destination\n",
    "    radius = 6371 # km\n",
    "\n",
    "    dlat = math.radians(lat2-lat1)\n",
    "    dlon = math.radians(lon2-lon1)\n",
    "    a = math.sin(dlat/2) * math.sin(dlat/2) + math.cos(math.radians(lat1)) \\\n",
    "        * math.cos(math.radians(lat2)) * math.sin(dlon/2) * math.sin(dlon/2)\n",
    "    c = 2 * math.atan2(math.sqrt(a), math.sqrt(1-a))\n",
    "    d = radius * c\n",
    "\n",
    "    return d\n"
   ]
  },
  {
   "cell_type": "code",
   "execution_count": null,
   "metadata": {},
   "outputs": [],
   "source": [
    "time1 = time.time()\n",
    "for index, row in combined_BC_traffic.iterrows():\n",
    "    for idx, col in enumerate(combined_BC_traffic.columns):\n",
    "        if \"_dist\" in col:\n",
    "            combined_BC_traffic.at[index,col] = float(distance((row.iloc[1], row.iloc[0]), (row.iloc[idx+1], row.iloc[idx+2])))*3280.84\n",
    "            #BC_Facility.at[index,col] = float(row.iloc[idx])\n",
    "time2 = time.time()            \n",
    "    \n",
    "print(time2 - time1)"
   ]
  },
  {
   "cell_type": "code",
   "execution_count": null,
   "metadata": {},
   "outputs": [],
   "source": [
    "combined_BC_traffic.head()"
   ]
  },
  {
   "cell_type": "markdown",
   "metadata": {},
   "source": [
    "##### Write the entire dataset to a csv file\n",
    "combined_BC_traffic.to_csv(\"Data/Unused-data/BC_traffic_full.csv\")"
   ]
  },
  {
   "cell_type": "markdown",
   "metadata": {},
   "source": [
    "# <b> <font size = 5> Read Traffic Distance Data </b> </font>"
   ]
  },
  {
   "cell_type": "code",
   "execution_count": null,
   "metadata": {},
   "outputs": [],
   "source": [
    "#Read dataset\n",
    "combined_BC_traffic = pd.read_csv(\"Data/Unused-data/BC_traffic_full.csv\")"
   ]
  },
  {
   "cell_type": "code",
   "execution_count": null,
   "metadata": {},
   "outputs": [],
   "source": [
    "#Drop the latitude column\n",
    "combined_BC_traffic = combined_BC_traffic[combined_BC_traffic.columns.drop(list(combined_BC_traffic.filter(regex='_latitude')))]"
   ]
  },
  {
   "cell_type": "code",
   "execution_count": null,
   "metadata": {},
   "outputs": [],
   "source": [
    "#Drop the longitude column\n",
    "combined_BC_traffic = combined_BC_traffic[combined_BC_traffic.columns.drop(list(combined_BC_traffic.filter(regex='_longitude')))]"
   ]
  },
  {
   "cell_type": "code",
   "execution_count": null,
   "metadata": {},
   "outputs": [],
   "source": [
    "#Drop BC value\n",
    "combined_BC_traffic = combined_BC_traffic[combined_BC_traffic.columns.drop(list(combined_BC_traffic.filter(regex='BC Value')))]"
   ]
  },
  {
   "cell_type": "code",
   "execution_count": null,
   "metadata": {},
   "outputs": [],
   "source": [
    "#Clean-up the columns\n",
    "combined_BC_traffic.drop(columns = ['Unnamed: 0'], inplace=True)"
   ]
  },
  {
   "cell_type": "code",
   "execution_count": null,
   "metadata": {},
   "outputs": [],
   "source": [
    "#Write to a new csv file\n",
    "combined_BC_traffic.to_csv(\"Data/Unused-data/BC_traffic_distance.csv\")"
   ]
  },
  {
   "cell_type": "markdown",
   "metadata": {},
   "source": [
    "## <b> <font size = 4> Count the number of intersections with distance <1,000 feet </b> </font>"
   ]
  },
  {
   "cell_type": "code",
   "execution_count": 17,
   "metadata": {},
   "outputs": [],
   "source": [
    "#Read csv file\n",
    "combined_BC_traffic = pd.read_csv(\"Data/Unused-data/BC_traffic_distance.csv\")"
   ]
  },
  {
   "cell_type": "code",
   "execution_count": 18,
   "metadata": {},
   "outputs": [],
   "source": [
    "#Create an empty column for number of intersection\n",
    "combined_BC_traffic['number_intersections'] = 0"
   ]
  },
  {
   "cell_type": "markdown",
   "metadata": {},
   "source": [
    "## <b> <font size = 4>  Define function using range that returns True or False if a value is between 0 - 1,000 feet. </b> </font>"
   ]
  },
  {
   "cell_type": "code",
   "execution_count": null,
   "metadata": {},
   "outputs": [],
   "source": [
    "def count_values_in_range(series, range_min, range_max):\n",
    "\n",
    "    # \"between\" returns a boolean Series equivalent to left <= series <= right.\n",
    "    # NA values will be treated as False.\n",
    "    return series.between(left=range_min, right=range_max).sum()\n",
    "\n",
    "range_min, range_max = 0, 1000\n",
    "\n",
    "\n",
    "combined_BC_traffic['number_intersections'] = combined_BC_traffic.apply(\n",
    "    func=lambda row: count_values_in_range(row, range_min, range_max), axis=1)\n"
   ]
  },
  {
   "cell_type": "code",
   "execution_count": null,
   "metadata": {},
   "outputs": [],
   "source": [
    "#Get only the rows that returned true\n",
    "BC_traffic_score = combined_BC_traffic[['Latitude','Longitude','number_intersections']]"
   ]
  },
  {
   "cell_type": "markdown",
   "metadata": {},
   "source": [
    "#### Write to a csv file\n",
    "BC_traffic_score.to_csv(\"Data/Traffic_score_2000.csv\")"
   ]
  },
  {
   "cell_type": "markdown",
   "metadata": {},
   "source": [
    "# <b> <font size = 5> Calculate Distance to Closest Highway </b> </font>"
   ]
  },
  {
   "cell_type": "markdown",
   "metadata": {},
   "source": [
    "<font size = 5> <b> Fetch all nodes using the API Query. Here the node is specified as 'Highway=motorway' </b> </font>"
   ]
  },
  {
   "cell_type": "code",
   "execution_count": 5,
   "metadata": {},
   "outputs": [],
   "source": [
    "api = overpy.Overpass()\n",
    "\n",
    "# fetch all ways and nodes\n",
    "result = api.query(\"\"\"\n",
    "    way(37.68,-122.36,37.752,-122.130) [\"highway\" = \"motorway\"];\n",
    "    (._;>;);\n",
    "    out body;\n",
    "    \"\"\")\n",
    "\n",
    "\n",
    "highway_lat = []\n",
    "highway_lon = []\n",
    "for node in result.nodes:\n",
    "    highway_lat.append(node.lat)\n",
    "    highway_lon.append(node.lon)\n"
   ]
  },
  {
   "cell_type": "code",
   "execution_count": 6,
   "metadata": {},
   "outputs": [],
   "source": [
    "highway_df = pd.DataFrame(list(zip(highway_lat, highway_lon)), columns = ['Latitude', 'Longitude'])"
   ]
  },
  {
   "cell_type": "code",
   "execution_count": 7,
   "metadata": {},
   "outputs": [],
   "source": [
    "highway_df.reset_index(inplace=True)"
   ]
  },
  {
   "cell_type": "code",
   "execution_count": 8,
   "metadata": {},
   "outputs": [],
   "source": [
    "highway_df.rename(columns = {'index':'Location_id'}, inplace=True)"
   ]
  },
  {
   "cell_type": "markdown",
   "metadata": {},
   "source": [
    "##### Write to csv\n",
    "highway_df.to_csv(\"Data/highway_locations.csv\")"
   ]
  },
  {
   "cell_type": "markdown",
   "metadata": {},
   "source": [
    "## <b> <font size  = 4>  Find location of closest highway to each point and measure distance </b> </font>"
   ]
  },
  {
   "cell_type": "code",
   "execution_count": 10,
   "metadata": {},
   "outputs": [],
   "source": [
    "geometry_BC = [Point(xy) for xy in zip(BC_df['Longitude'], BC_df['Latitude'])]\n",
    "geometry_NO2 = [Point(xy) for xy in zip(NO2_df['Longitude'], NO2_df['Latitude'])]\n",
    "geometry_highway = [Point(xy) for xy in zip(highway_df['Longitude'], highway_df['Latitude'])]"
   ]
  },
  {
   "cell_type": "code",
   "execution_count": 11,
   "metadata": {},
   "outputs": [],
   "source": [
    "crs = {'init': 'epsg:4326'}"
   ]
  },
  {
   "cell_type": "code",
   "execution_count": 12,
   "metadata": {},
   "outputs": [],
   "source": [
    "# Create a geopandas dataframe with the coordinate reference system as epsg4326\n",
    "geo_df_BC = gpd.GeoDataFrame(BC_df, crs = crs, geometry = geometry_BC)\n",
    "geo_df_NO2 =gpd.GeoDataFrame(NO2_df, crs = crs, geometry = geometry_NO2)\n",
    "geo_df_highway =gpd.GeoDataFrame(highway_df, crs = crs, geometry = geometry_highway)"
   ]
  },
  {
   "cell_type": "markdown",
   "metadata": {},
   "source": [
    "**Use geopandas nearest function to get the location of the nearest highway from each monitoring location**"
   ]
  },
  {
   "cell_type": "code",
   "execution_count": 13,
   "metadata": {},
   "outputs": [],
   "source": [
    "# Unary Union of the geo_df geometry\n",
    "\n",
    "pts = geo_df_highway.geometry.unary_union\n",
    "def near(point, pts=pts):\n",
    "     # find the nearest point and return the corresponding Location\n",
    "     nearest = geo_df_highway.geometry == nearest_points(point, pts)[1]\n",
    "     return geo_df_highway[nearest]['Location_id'].to_numpy()[0]\n",
    "geo_df_BC['Nearest_Highway'] = geo_df_BC.apply(lambda row: near(row.geometry), axis=1)"
   ]
  },
  {
   "cell_type": "code",
   "execution_count": 14,
   "metadata": {},
   "outputs": [],
   "source": [
    "# Unary Union of the geo_df geometry\n",
    "\n",
    "pts = geo_df_highway.geometry.unary_union\n",
    "def near(point, pts=pts):\n",
    "     # find the nearest point and return the corresponding Location\n",
    "     nearest = geo_df_highway.geometry == nearest_points(point, pts)[1]\n",
    "     return geo_df_highway[nearest]['Location_id'].to_numpy()[0]\n",
    "geo_df_NO2['Nearest_Highway'] = geo_df_NO2.apply(lambda row: near(row.geometry), axis=1)"
   ]
  },
  {
   "cell_type": "code",
   "execution_count": 16,
   "metadata": {},
   "outputs": [],
   "source": [
    "BC_df_highway = BC_df.merge(highway_df, left_on=['Nearest_Highway'], right_on = ['Location_id'], suffixes = ['_BC','_highway'])"
   ]
  },
  {
   "cell_type": "code",
   "execution_count": 17,
   "metadata": {},
   "outputs": [
    {
     "data": {
      "text/html": [
       "<div>\n",
       "<style scoped>\n",
       "    .dataframe tbody tr th:only-of-type {\n",
       "        vertical-align: middle;\n",
       "    }\n",
       "\n",
       "    .dataframe tbody tr th {\n",
       "        vertical-align: top;\n",
       "    }\n",
       "\n",
       "    .dataframe thead th {\n",
       "        text-align: right;\n",
       "    }\n",
       "</style>\n",
       "<table border=\"1\" class=\"dataframe\">\n",
       "  <thead>\n",
       "    <tr style=\"text-align: right;\">\n",
       "      <th></th>\n",
       "      <th>Longitude_BC</th>\n",
       "      <th>Latitude_BC</th>\n",
       "      <th>BC Value</th>\n",
       "      <th>geometry_BC</th>\n",
       "      <th>Nearest_Highway</th>\n",
       "      <th>Location_id</th>\n",
       "      <th>Latitude_highway</th>\n",
       "      <th>Longitude_highway</th>\n",
       "      <th>geometry_highway</th>\n",
       "    </tr>\n",
       "  </thead>\n",
       "  <tbody>\n",
       "    <tr>\n",
       "      <td>0</td>\n",
       "      <td>-122.322594</td>\n",
       "      <td>37.806781</td>\n",
       "      <td>0.818032</td>\n",
       "      <td>POINT (-122.32259 37.80678)</td>\n",
       "      <td>221</td>\n",
       "      <td>221</td>\n",
       "      <td>37.7529546</td>\n",
       "      <td>-122.2073471</td>\n",
       "      <td>POINT (-122.20735 37.75295)</td>\n",
       "    </tr>\n",
       "    <tr>\n",
       "      <td>1</td>\n",
       "      <td>-122.322310</td>\n",
       "      <td>37.806150</td>\n",
       "      <td>0.551475</td>\n",
       "      <td>POINT (-122.32231 37.80615)</td>\n",
       "      <td>221</td>\n",
       "      <td>221</td>\n",
       "      <td>37.7529546</td>\n",
       "      <td>-122.2073471</td>\n",
       "      <td>POINT (-122.20735 37.75295)</td>\n",
       "    </tr>\n",
       "    <tr>\n",
       "      <td>2</td>\n",
       "      <td>-122.322301</td>\n",
       "      <td>37.806420</td>\n",
       "      <td>0.593712</td>\n",
       "      <td>POINT (-122.32230 37.80642)</td>\n",
       "      <td>221</td>\n",
       "      <td>221</td>\n",
       "      <td>37.7529546</td>\n",
       "      <td>-122.2073471</td>\n",
       "      <td>POINT (-122.20735 37.75295)</td>\n",
       "    </tr>\n",
       "    <tr>\n",
       "      <td>3</td>\n",
       "      <td>-122.322299</td>\n",
       "      <td>37.805880</td>\n",
       "      <td>0.489898</td>\n",
       "      <td>POINT (-122.32230 37.80588)</td>\n",
       "      <td>221</td>\n",
       "      <td>221</td>\n",
       "      <td>37.7529546</td>\n",
       "      <td>-122.2073471</td>\n",
       "      <td>POINT (-122.20735 37.75295)</td>\n",
       "    </tr>\n",
       "    <tr>\n",
       "      <td>4</td>\n",
       "      <td>-122.322267</td>\n",
       "      <td>37.806689</td>\n",
       "      <td>0.739341</td>\n",
       "      <td>POINT (-122.32227 37.80669)</td>\n",
       "      <td>221</td>\n",
       "      <td>221</td>\n",
       "      <td>37.7529546</td>\n",
       "      <td>-122.2073471</td>\n",
       "      <td>POINT (-122.20735 37.75295)</td>\n",
       "    </tr>\n",
       "  </tbody>\n",
       "</table>\n",
       "</div>"
      ],
      "text/plain": [
       "   Longitude_BC  Latitude_BC  BC Value                  geometry_BC  \\\n",
       "0   -122.322594    37.806781  0.818032  POINT (-122.32259 37.80678)   \n",
       "1   -122.322310    37.806150  0.551475  POINT (-122.32231 37.80615)   \n",
       "2   -122.322301    37.806420  0.593712  POINT (-122.32230 37.80642)   \n",
       "3   -122.322299    37.805880  0.489898  POINT (-122.32230 37.80588)   \n",
       "4   -122.322267    37.806689  0.739341  POINT (-122.32227 37.80669)   \n",
       "\n",
       "   Nearest_Highway  Location_id Latitude_highway Longitude_highway  \\\n",
       "0              221          221       37.7529546      -122.2073471   \n",
       "1              221          221       37.7529546      -122.2073471   \n",
       "2              221          221       37.7529546      -122.2073471   \n",
       "3              221          221       37.7529546      -122.2073471   \n",
       "4              221          221       37.7529546      -122.2073471   \n",
       "\n",
       "              geometry_highway  \n",
       "0  POINT (-122.20735 37.75295)  \n",
       "1  POINT (-122.20735 37.75295)  \n",
       "2  POINT (-122.20735 37.75295)  \n",
       "3  POINT (-122.20735 37.75295)  \n",
       "4  POINT (-122.20735 37.75295)  "
      ]
     },
     "execution_count": 17,
     "metadata": {},
     "output_type": "execute_result"
    }
   ],
   "source": [
    "BC_df_highway.head()"
   ]
  },
  {
   "cell_type": "code",
   "execution_count": 18,
   "metadata": {},
   "outputs": [],
   "source": [
    "BC_df_highway.drop(columns = ['Location_id', 'geometry_BC','geometry_highway', 'Nearest_Highway'], inplace=True)"
   ]
  },
  {
   "cell_type": "code",
   "execution_count": 19,
   "metadata": {},
   "outputs": [
    {
     "data": {
      "text/plain": [
       "0        0.0\n",
       "1        0.0\n",
       "2        0.0\n",
       "3        0.0\n",
       "4        0.0\n",
       "        ... \n",
       "21483    0.0\n",
       "21484    0.0\n",
       "21485    0.0\n",
       "21486    0.0\n",
       "21487    0.0\n",
       "Name: dist, Length: 21488, dtype: float64"
      ]
     },
     "execution_count": 19,
     "metadata": {},
     "output_type": "execute_result"
    }
   ],
   "source": [
    "### Add an empty column for distance\n",
    "BC_df_highway['dist'] = 0\n",
    "BC_df_highway['dist'].astype(float)"
   ]
  },
  {
   "cell_type": "code",
   "execution_count": 20,
   "metadata": {},
   "outputs": [],
   "source": [
    "#Convert all distance columns to type float\n",
    "BC_df_highway['dist'] = pd.to_numeric(BC_df_highway['dist'], downcast=\"float\")\n",
    "BC_df_highway['Latitude_highway'] = pd.to_numeric(BC_df_highway['Latitude_highway'], downcast=\"float\")\n",
    "BC_df_highway['Longitude_highway'] = pd.to_numeric(BC_df_highway['Longitude_highway'], downcast=\"float\")\n"
   ]
  },
  {
   "cell_type": "code",
   "execution_count": 21,
   "metadata": {},
   "outputs": [
    {
     "data": {
      "text/html": [
       "<div>\n",
       "<style scoped>\n",
       "    .dataframe tbody tr th:only-of-type {\n",
       "        vertical-align: middle;\n",
       "    }\n",
       "\n",
       "    .dataframe tbody tr th {\n",
       "        vertical-align: top;\n",
       "    }\n",
       "\n",
       "    .dataframe thead th {\n",
       "        text-align: right;\n",
       "    }\n",
       "</style>\n",
       "<table border=\"1\" class=\"dataframe\">\n",
       "  <thead>\n",
       "    <tr style=\"text-align: right;\">\n",
       "      <th></th>\n",
       "      <th>Longitude_BC</th>\n",
       "      <th>Latitude_BC</th>\n",
       "      <th>BC Value</th>\n",
       "      <th>Latitude_highway</th>\n",
       "      <th>Longitude_highway</th>\n",
       "      <th>dist</th>\n",
       "    </tr>\n",
       "  </thead>\n",
       "  <tbody>\n",
       "    <tr>\n",
       "      <td>0</td>\n",
       "      <td>-122.322594</td>\n",
       "      <td>37.806781</td>\n",
       "      <td>0.818032</td>\n",
       "      <td>37.752956</td>\n",
       "      <td>-122.207344</td>\n",
       "      <td>0.0</td>\n",
       "    </tr>\n",
       "    <tr>\n",
       "      <td>1</td>\n",
       "      <td>-122.322310</td>\n",
       "      <td>37.806150</td>\n",
       "      <td>0.551475</td>\n",
       "      <td>37.752956</td>\n",
       "      <td>-122.207344</td>\n",
       "      <td>0.0</td>\n",
       "    </tr>\n",
       "    <tr>\n",
       "      <td>2</td>\n",
       "      <td>-122.322301</td>\n",
       "      <td>37.806420</td>\n",
       "      <td>0.593712</td>\n",
       "      <td>37.752956</td>\n",
       "      <td>-122.207344</td>\n",
       "      <td>0.0</td>\n",
       "    </tr>\n",
       "    <tr>\n",
       "      <td>3</td>\n",
       "      <td>-122.322299</td>\n",
       "      <td>37.805880</td>\n",
       "      <td>0.489898</td>\n",
       "      <td>37.752956</td>\n",
       "      <td>-122.207344</td>\n",
       "      <td>0.0</td>\n",
       "    </tr>\n",
       "    <tr>\n",
       "      <td>4</td>\n",
       "      <td>-122.322267</td>\n",
       "      <td>37.806689</td>\n",
       "      <td>0.739341</td>\n",
       "      <td>37.752956</td>\n",
       "      <td>-122.207344</td>\n",
       "      <td>0.0</td>\n",
       "    </tr>\n",
       "  </tbody>\n",
       "</table>\n",
       "</div>"
      ],
      "text/plain": [
       "   Longitude_BC  Latitude_BC  BC Value  Latitude_highway  Longitude_highway  \\\n",
       "0   -122.322594    37.806781  0.818032         37.752956        -122.207344   \n",
       "1   -122.322310    37.806150  0.551475         37.752956        -122.207344   \n",
       "2   -122.322301    37.806420  0.593712         37.752956        -122.207344   \n",
       "3   -122.322299    37.805880  0.489898         37.752956        -122.207344   \n",
       "4   -122.322267    37.806689  0.739341         37.752956        -122.207344   \n",
       "\n",
       "   dist  \n",
       "0   0.0  \n",
       "1   0.0  \n",
       "2   0.0  \n",
       "3   0.0  \n",
       "4   0.0  "
      ]
     },
     "execution_count": 21,
     "metadata": {},
     "output_type": "execute_result"
    }
   ],
   "source": [
    "BC_df_highway.head()"
   ]
  },
  {
   "cell_type": "code",
   "execution_count": 22,
   "metadata": {},
   "outputs": [
    {
     "data": {
      "text/plain": [
       "count    21488.000000\n",
       "mean        37.741249\n",
       "std          0.019706\n",
       "min         37.684822\n",
       "25%         37.740280\n",
       "50%         37.752956\n",
       "75%         37.752956\n",
       "max         37.753536\n",
       "Name: Latitude_highway, dtype: float64"
      ]
     },
     "execution_count": 22,
     "metadata": {},
     "output_type": "execute_result"
    }
   ],
   "source": [
    "BC_df_highway['Latitude_highway'].describe()"
   ]
  },
  {
   "cell_type": "markdown",
   "metadata": {},
   "source": [
    "**Apply the distance function previously defined to calculate the distance between the latitude and longitude of monitoring location, and latitude and longitude of closest highway**"
   ]
  },
  {
   "cell_type": "code",
   "execution_count": 25,
   "metadata": {},
   "outputs": [],
   "source": [
    "BC_df_highway['Dist'] = BC_df_highway.apply(lambda row : distance((row['Latitude_BC'], row['Longitude_BC']), \n",
    "                                                       (row['Latitude_highway'], row['Longitude_highway'])), axis = 1) "
   ]
  },
  {
   "cell_type": "code",
   "execution_count": 28,
   "metadata": {},
   "outputs": [
    {
     "data": {
      "text/plain": [
       "count    21488.000000\n",
       "mean         5.360958\n",
       "std          4.145873\n",
       "min          0.000029\n",
       "25%          1.338816\n",
       "50%          5.342147\n",
       "75%          9.215371\n",
       "max         16.222368\n",
       "Name: Dist, dtype: float64"
      ]
     },
     "execution_count": 28,
     "metadata": {},
     "output_type": "execute_result"
    }
   ],
   "source": [
    "BC_df_highway['Dist'].describe()"
   ]
  },
  {
   "cell_type": "markdown",
   "metadata": {},
   "source": [
    "##### Write to a csv\n",
    "BC_df_highway.to_csv(\"Data/BC_dist_highway.csv\")"
   ]
  },
  {
   "cell_type": "code",
   "execution_count": 30,
   "metadata": {},
   "outputs": [],
   "source": [
    "NO2_df_highway = NO2_df.merge(highway_df, left_on=['Nearest_Highway'], right_on = ['Location_id'], suffixes = ['_NO2','_highway'])"
   ]
  },
  {
   "cell_type": "code",
   "execution_count": 31,
   "metadata": {},
   "outputs": [],
   "source": [
    "NO2_df_highway.drop(columns = ['Location_id', 'geometry_NO2','geometry_highway', 'Nearest_Highway'], inplace=True)"
   ]
  },
  {
   "cell_type": "code",
   "execution_count": 32,
   "metadata": {},
   "outputs": [],
   "source": [
    "NO2_df_highway['Latitude_highway'] = pd.to_numeric(NO2_df_highway['Latitude_highway'], downcast=\"float\")\n",
    "NO2_df_highway['Longitude_highway'] = pd.to_numeric(NO2_df_highway['Longitude_highway'], downcast=\"float\")\n"
   ]
  },
  {
   "cell_type": "markdown",
   "metadata": {},
   "source": [
    "**Apply the distance function previously defined to calculate the distance between the latitude and longitude of monitoring location, and latitude and longitude of closest highway**"
   ]
  },
  {
   "cell_type": "code",
   "execution_count": 33,
   "metadata": {},
   "outputs": [],
   "source": [
    "NO2_df_highway['Dist'] = NO2_df_highway.apply(lambda row : distance((row['Latitude_NO2'], row['Longitude_NO2']), \n",
    "                                                       (row['Latitude_highway'], row['Longitude_highway'])), axis = 1) "
   ]
  },
  {
   "cell_type": "code",
   "execution_count": 35,
   "metadata": {},
   "outputs": [
    {
     "data": {
      "text/plain": [
       "count    21488.000000\n",
       "mean         5.360958\n",
       "std          4.145873\n",
       "min          0.000029\n",
       "25%          1.338816\n",
       "50%          5.342147\n",
       "75%          9.215371\n",
       "max         16.222368\n",
       "Name: Dist, dtype: float64"
      ]
     },
     "execution_count": 35,
     "metadata": {},
     "output_type": "execute_result"
    }
   ],
   "source": [
    "NO2_df_highway['Dist'].describe()"
   ]
  },
  {
   "cell_type": "markdown",
   "metadata": {},
   "source": [
    "##### Write to csv\n",
    "NO2_df_highway.to_csv(\"Data/NO2_dist_highway.csv\")"
   ]
  },
  {
   "cell_type": "markdown",
   "metadata": {},
   "source": [
    "# Reference"
   ]
  },
  {
   "cell_type": "markdown",
   "metadata": {},
   "source": [
    "1.  Fetch location of traffic signals: <a> \"https://python-overpy.readthedocs.io/en/latest/introduction.html\"> </a>"
   ]
  },
  {
   "cell_type": "code",
   "execution_count": null,
   "metadata": {},
   "outputs": [],
   "source": []
  }
 ],
 "metadata": {
  "kernelspec": {
   "display_name": "Python 3",
   "language": "python",
   "name": "python3"
  },
  "language_info": {
   "codemirror_mode": {
    "name": "ipython",
    "version": 3
   },
   "file_extension": ".py",
   "mimetype": "text/x-python",
   "name": "python",
   "nbconvert_exporter": "python",
   "pygments_lexer": "ipython3",
   "version": "3.7.4"
  },
  "toc": {
   "base_numbering": 1,
   "nav_menu": {},
   "number_sections": true,
   "sideBar": true,
   "skip_h1_title": false,
   "title_cell": "Table of Contents",
   "title_sidebar": "Contents",
   "toc_cell": false,
   "toc_position": {},
   "toc_section_display": true,
   "toc_window_display": false
  }
 },
 "nbformat": 4,
 "nbformat_minor": 2
}
