{
 "cells": [
  {
   "cell_type": "code",
   "execution_count": 91,
   "metadata": {},
   "outputs": [],
   "source": [
    "from geopy.geocoders import Nominatim\n",
    "import folium\n",
    "from folium import Choropleth, Circle, Marker\n",
    "from folium.plugins import MarkerCluster\n",
    "\n",
    "import pandas as pd\n",
    "\n",
    "from scipy import spatial\n"
   ]
  },
  {
   "cell_type": "code",
   "execution_count": 92,
   "metadata": {},
   "outputs": [],
   "source": [
    "## Import file containing predictions for entire Oakland and San Leandro area\n",
    "BC = pd.read_csv(\"../Data/BC_predicted_grid_df_100.csv\")\n",
    "BC.drop(columns = ['Unnamed: 0'], inplace=True)\n",
    "\n",
    "\n",
    "NO2 = pd.read_csv(\"../Data/NO2_predicted_grid_df_100.csv\")\n",
    "NO2.drop(columns = ['Unnamed: 0'], inplace=True)\n"
   ]
  },
  {
   "cell_type": "code",
   "execution_count": 93,
   "metadata": {},
   "outputs": [
    {
     "data": {
      "text/html": [
       "<div>\n",
       "<style scoped>\n",
       "    .dataframe tbody tr th:only-of-type {\n",
       "        vertical-align: middle;\n",
       "    }\n",
       "\n",
       "    .dataframe tbody tr th {\n",
       "        vertical-align: top;\n",
       "    }\n",
       "\n",
       "    .dataframe thead th {\n",
       "        text-align: right;\n",
       "    }\n",
       "</style>\n",
       "<table border=\"1\" class=\"dataframe\">\n",
       "  <thead>\n",
       "    <tr style=\"text-align: right;\">\n",
       "      <th></th>\n",
       "      <th>BC_Predicted_XGB</th>\n",
       "      <th>BC_Predicted_RF</th>\n",
       "      <th>Latitude</th>\n",
       "      <th>Longitude</th>\n",
       "    </tr>\n",
       "  </thead>\n",
       "  <tbody>\n",
       "    <tr>\n",
       "      <td>0</td>\n",
       "      <td>0.810437</td>\n",
       "      <td>0.804578</td>\n",
       "      <td>37.798945</td>\n",
       "      <td>-122.329059</td>\n",
       "    </tr>\n",
       "    <tr>\n",
       "      <td>1</td>\n",
       "      <td>0.785182</td>\n",
       "      <td>0.775572</td>\n",
       "      <td>37.798945</td>\n",
       "      <td>-122.326624</td>\n",
       "    </tr>\n",
       "    <tr>\n",
       "      <td>2</td>\n",
       "      <td>0.810437</td>\n",
       "      <td>0.784563</td>\n",
       "      <td>37.801513</td>\n",
       "      <td>-122.326624</td>\n",
       "    </tr>\n",
       "    <tr>\n",
       "      <td>3</td>\n",
       "      <td>1.432946</td>\n",
       "      <td>0.819916</td>\n",
       "      <td>37.804080</td>\n",
       "      <td>-122.326624</td>\n",
       "    </tr>\n",
       "    <tr>\n",
       "      <td>4</td>\n",
       "      <td>1.486921</td>\n",
       "      <td>0.810473</td>\n",
       "      <td>37.806647</td>\n",
       "      <td>-122.326624</td>\n",
       "    </tr>\n",
       "  </tbody>\n",
       "</table>\n",
       "</div>"
      ],
      "text/plain": [
       "   BC_Predicted_XGB  BC_Predicted_RF   Latitude   Longitude\n",
       "0          0.810437         0.804578  37.798945 -122.329059\n",
       "1          0.785182         0.775572  37.798945 -122.326624\n",
       "2          0.810437         0.784563  37.801513 -122.326624\n",
       "3          1.432946         0.819916  37.804080 -122.326624\n",
       "4          1.486921         0.810473  37.806647 -122.326624"
      ]
     },
     "execution_count": 93,
     "metadata": {},
     "output_type": "execute_result"
    }
   ],
   "source": [
    "#Print first few rows\n",
    "BC.head()"
   ]
  },
  {
   "cell_type": "code",
   "execution_count": 94,
   "metadata": {},
   "outputs": [
    {
     "data": {
      "text/html": [
       "<div>\n",
       "<style scoped>\n",
       "    .dataframe tbody tr th:only-of-type {\n",
       "        vertical-align: middle;\n",
       "    }\n",
       "\n",
       "    .dataframe tbody tr th {\n",
       "        vertical-align: top;\n",
       "    }\n",
       "\n",
       "    .dataframe thead th {\n",
       "        text-align: right;\n",
       "    }\n",
       "</style>\n",
       "<table border=\"1\" class=\"dataframe\">\n",
       "  <thead>\n",
       "    <tr style=\"text-align: right;\">\n",
       "      <th></th>\n",
       "      <th>NO2_Predicted_XGB</th>\n",
       "      <th>NO2_Predicted_RF</th>\n",
       "      <th>Latitude</th>\n",
       "      <th>Longitude</th>\n",
       "    </tr>\n",
       "  </thead>\n",
       "  <tbody>\n",
       "    <tr>\n",
       "      <td>0</td>\n",
       "      <td>20.229969</td>\n",
       "      <td>20.263560</td>\n",
       "      <td>37.798945</td>\n",
       "      <td>-122.329059</td>\n",
       "    </tr>\n",
       "    <tr>\n",
       "      <td>1</td>\n",
       "      <td>21.512232</td>\n",
       "      <td>20.178798</td>\n",
       "      <td>37.798945</td>\n",
       "      <td>-122.326624</td>\n",
       "    </tr>\n",
       "    <tr>\n",
       "      <td>2</td>\n",
       "      <td>19.190828</td>\n",
       "      <td>19.974791</td>\n",
       "      <td>37.801513</td>\n",
       "      <td>-122.326624</td>\n",
       "    </tr>\n",
       "    <tr>\n",
       "      <td>3</td>\n",
       "      <td>19.698032</td>\n",
       "      <td>20.417615</td>\n",
       "      <td>37.804080</td>\n",
       "      <td>-122.326624</td>\n",
       "    </tr>\n",
       "    <tr>\n",
       "      <td>4</td>\n",
       "      <td>19.248934</td>\n",
       "      <td>19.470931</td>\n",
       "      <td>37.806647</td>\n",
       "      <td>-122.326624</td>\n",
       "    </tr>\n",
       "  </tbody>\n",
       "</table>\n",
       "</div>"
      ],
      "text/plain": [
       "   NO2_Predicted_XGB  NO2_Predicted_RF   Latitude   Longitude\n",
       "0          20.229969         20.263560  37.798945 -122.329059\n",
       "1          21.512232         20.178798  37.798945 -122.326624\n",
       "2          19.190828         19.974791  37.801513 -122.326624\n",
       "3          19.698032         20.417615  37.804080 -122.326624\n",
       "4          19.248934         19.470931  37.806647 -122.326624"
      ]
     },
     "execution_count": 94,
     "metadata": {},
     "output_type": "execute_result"
    }
   ],
   "source": [
    "#Print first few rows\n",
    "NO2.head()"
   ]
  },
  {
   "cell_type": "code",
   "execution_count": 95,
   "metadata": {},
   "outputs": [
    {
     "name": "stdout",
     "output_type": "stream",
     "text": [
      "1011 Union Street Oakland, CA\n"
     ]
    }
   ],
   "source": [
    "## Input an address\n",
    "Address = input()"
   ]
  },
  {
   "cell_type": "code",
   "execution_count": 96,
   "metadata": {},
   "outputs": [],
   "source": [
    "# Here we use openstreetmap's Nominatin to convert address to a latitude/longitude coordinates\n",
    "\n",
    "geolocator = Nominatim(user_agent=\"my_app\") #using open street map API\n",
    "Geo_Coordinate = geolocator.geocode(Address)\n",
    "lat = Geo_Coordinate.latitude\n",
    "long = Geo_Coordinate.longitude"
   ]
  },
  {
   "cell_type": "code",
   "execution_count": 97,
   "metadata": {},
   "outputs": [],
   "source": [
    "#Convert the lat long into a list and store is as points\n",
    "point = [lat, long]\n",
    "\n",
    "### Find the nearest point to 'point' from the BC and NO2 dataframe using spatial KDTree\n",
    "nearest_lat = BC.loc[spatial.KDTree(BC[['Latitude', 'Longitude']]).query(point)[1]]['Latitude']\n",
    "nearest_long = BC.loc[spatial.KDTree(BC[['Latitude', 'Longitude']]).query(point)[1]]['Longitude']\n"
   ]
  },
  {
   "cell_type": "code",
   "execution_count": 103,
   "metadata": {},
   "outputs": [
    {
     "data": {
      "text/html": [
       "<div style=\"width:100%;\"><div style=\"position:relative;width:100%;height:0;padding-bottom:60%;\"><iframe src=\"about:blank\" style=\"position:absolute;width:100%;height:100%;left:0;top:0;border:none !important;\" data-html=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 onload=\"this.contentDocument.open();this.contentDocument.write(atob(this.getAttribute('data-html')));this.contentDocument.close();\" allowfullscreen webkitallowfullscreen mozallowfullscreen></iframe></div></div>"
      ],
      "text/plain": [
       "<folium.folium.Map at 0x7f40a60d9b50>"
      ]
     },
     "execution_count": 103,
     "metadata": {},
     "output_type": "execute_result"
    }
   ],
   "source": [
    "\n",
    "\n",
    "USA = folium.Map(location = [lat,long],\n",
    "tiles='CartoDB positron',\n",
    "zoom_start = 12)\n",
    "\n",
    "\n",
    "\n",
    "# Add marker for Location\n",
    "folium.Marker(\n",
    "    location=[lat, long], # coordinates for the marker (Earth Lab at CU Boulder)\n",
    "    popup=\"\"\"\n",
    "                  <i>BC Concentration: </i> <br> <b>{}</b> ug/m3 <br> \n",
    "                  <i>NO2 Concentration: </i><b><br>{}</b> ppb <br>\n",
    "                  \"\"\".format(\n",
    "                    round(BC.loc[spatial.KDTree(BC[['Latitude', 'Longitude']]).query(point)[1]]['BC_Predicted_RF']\n",
    ",2), \n",
    "                    round(NO2.loc[spatial.KDTree(NO2[['Latitude', 'Longitude']]).query(point)[1]]['NO2_Predicted_RF']\n",
    ",2)),icon=folium.Icon()\n",
    ").add_to(USA)\n",
    "\n",
    "\n",
    "USA\n",
    "\n",
    "\n"
   ]
  },
  {
   "cell_type": "code",
   "execution_count": 90,
   "metadata": {},
   "outputs": [],
   "source": []
  },
  {
   "cell_type": "code",
   "execution_count": null,
   "metadata": {},
   "outputs": [],
   "source": []
  }
 ],
 "metadata": {
  "kernelspec": {
   "display_name": "Python 3",
   "language": "python",
   "name": "python3"
  },
  "language_info": {
   "codemirror_mode": {
    "name": "ipython",
    "version": 3
   },
   "file_extension": ".py",
   "mimetype": "text/x-python",
   "name": "python",
   "nbconvert_exporter": "python",
   "pygments_lexer": "ipython3",
   "version": "3.7.4"
  },
  "toc": {
   "base_numbering": 1,
   "nav_menu": {},
   "number_sections": true,
   "sideBar": true,
   "skip_h1_title": false,
   "title_cell": "Table of Contents",
   "title_sidebar": "Contents",
   "toc_cell": false,
   "toc_position": {},
   "toc_section_display": true,
   "toc_window_display": false
  }
 },
 "nbformat": 4,
 "nbformat_minor": 2
}
