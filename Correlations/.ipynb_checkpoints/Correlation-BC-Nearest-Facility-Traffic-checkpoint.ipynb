{
 "cells": [
  {
   "cell_type": "code",
   "execution_count": 3,
   "metadata": {},
   "outputs": [],
   "source": [
    "import pandas as pd\n",
    "import numpy as np\n",
    "import matplotlib.pyplot as plt\n",
    "import descartes\n",
    "import geopandas as gpd\n",
    "from shapely.geometry import Point, Polygon\n",
    "from shapely.ops import nearest_points\n",
    "\n",
    "import seaborn as sns\n",
    "\n",
    "from mpl_toolkits.axes_grid1 import make_axes_locatable\n",
    "\n",
    "import math\n",
    "\n",
    "import time\n",
    "\n",
    "from matplotlib import cm\n",
    "\n",
    "import matplotlib.lines as mlines\n",
    "\n",
    "%matplotlib inline"
   ]
  },
  {
   "cell_type": "markdown",
   "metadata": {},
   "source": [
    "### Air Pollution Monitoring Data"
   ]
  },
  {
   "cell_type": "code",
   "execution_count": 4,
   "metadata": {},
   "outputs": [
    {
     "data": {
      "text/html": [
       "<div>\n",
       "<style scoped>\n",
       "    .dataframe tbody tr th:only-of-type {\n",
       "        vertical-align: middle;\n",
       "    }\n",
       "\n",
       "    .dataframe tbody tr th {\n",
       "        vertical-align: top;\n",
       "    }\n",
       "\n",
       "    .dataframe thead th {\n",
       "        text-align: right;\n",
       "    }\n",
       "</style>\n",
       "<table border=\"1\" class=\"dataframe\">\n",
       "  <thead>\n",
       "    <tr style=\"text-align: right;\">\n",
       "      <th></th>\n",
       "      <th>Longitude</th>\n",
       "      <th>Latitude</th>\n",
       "      <th>NO Value</th>\n",
       "      <th>NO2 Value</th>\n",
       "      <th>BC Value</th>\n",
       "      <th>TimePeriod</th>\n",
       "    </tr>\n",
       "  </thead>\n",
       "  <tbody>\n",
       "    <tr>\n",
       "      <td>21483</td>\n",
       "      <td>-122.034943</td>\n",
       "      <td>37.560076</td>\n",
       "      <td>129.999995</td>\n",
       "      <td>44.778220</td>\n",
       "      <td>3.923761</td>\n",
       "      <td>Jun2015-May2016</td>\n",
       "    </tr>\n",
       "    <tr>\n",
       "      <td>21484</td>\n",
       "      <td>-122.034724</td>\n",
       "      <td>37.560164</td>\n",
       "      <td>60.799998</td>\n",
       "      <td>39.027545</td>\n",
       "      <td>1.408693</td>\n",
       "      <td>Jun2015-May2016</td>\n",
       "    </tr>\n",
       "    <tr>\n",
       "      <td>21485</td>\n",
       "      <td>-122.034681</td>\n",
       "      <td>37.559830</td>\n",
       "      <td>34.622951</td>\n",
       "      <td>28.816797</td>\n",
       "      <td>2.659885</td>\n",
       "      <td>Jun2015-May2016</td>\n",
       "    </tr>\n",
       "    <tr>\n",
       "      <td>21486</td>\n",
       "      <td>-122.034504</td>\n",
       "      <td>37.559958</td>\n",
       "      <td>74.764705</td>\n",
       "      <td>35.735434</td>\n",
       "      <td>1.776353</td>\n",
       "      <td>Jun2015-May2016</td>\n",
       "    </tr>\n",
       "    <tr>\n",
       "      <td>21487</td>\n",
       "      <td>-122.034503</td>\n",
       "      <td>37.559957</td>\n",
       "      <td>78.754782</td>\n",
       "      <td>41.062757</td>\n",
       "      <td>2.014664</td>\n",
       "      <td>Jun2015-May2016</td>\n",
       "    </tr>\n",
       "  </tbody>\n",
       "</table>\n",
       "</div>"
      ],
      "text/plain": [
       "        Longitude   Latitude    NO Value  NO2 Value  BC Value       TimePeriod\n",
       "21483 -122.034943  37.560076  129.999995  44.778220  3.923761  Jun2015-May2016\n",
       "21484 -122.034724  37.560164   60.799998  39.027545  1.408693  Jun2015-May2016\n",
       "21485 -122.034681  37.559830   34.622951  28.816797  2.659885  Jun2015-May2016\n",
       "21486 -122.034504  37.559958   74.764705  35.735434  1.776353  Jun2015-May2016\n",
       "21487 -122.034503  37.559957   78.754782  41.062757  2.014664  Jun2015-May2016"
      ]
     },
     "execution_count": 4,
     "metadata": {},
     "output_type": "execute_result"
    }
   ],
   "source": [
    "df = pd.read_csv('EDF_Data.csv', header = 1)\n",
    "df['TimePeriod'] = 'Jun2015-May2016'\n",
    "df.tail()\n"
   ]
  },
  {
   "cell_type": "code",
   "execution_count": 5,
   "metadata": {},
   "outputs": [
    {
     "data": {
      "text/plain": [
       "(21488, 6)"
      ]
     },
     "execution_count": 5,
     "metadata": {},
     "output_type": "execute_result"
    }
   ],
   "source": [
    "df.shape"
   ]
  },
  {
   "cell_type": "code",
   "execution_count": 6,
   "metadata": {},
   "outputs": [],
   "source": [
    "geometry = [Point(xy) for xy in zip(df['Longitude'], df['Latitude'])]"
   ]
  },
  {
   "cell_type": "markdown",
   "metadata": {},
   "source": [
    "### Split the dataset into BC and NO2 since we are interested only in those two pollutants"
   ]
  },
  {
   "cell_type": "code",
   "execution_count": 7,
   "metadata": {},
   "outputs": [],
   "source": [
    "BC_df = df[['Longitude', 'Latitude', 'BC Value', 'TimePeriod']]"
   ]
  },
  {
   "cell_type": "code",
   "execution_count": 8,
   "metadata": {},
   "outputs": [],
   "source": [
    "crs = {'init': 'epsg:4326'}\n",
    "geo_df = gpd.GeoDataFrame(df, crs = crs, geometry = geometry)"
   ]
  },
  {
   "cell_type": "markdown",
   "metadata": {},
   "source": [
    "### Reading Facility Level Data"
   ]
  },
  {
   "cell_type": "code",
   "execution_count": 9,
   "metadata": {},
   "outputs": [
    {
     "data": {
      "text/plain": [
       "Index(['Unnamed: 0', 'county', 'eis facility id', 'agency facility id',\n",
       "       'tri facility id', 'company name', 'site name', 'facility source type',\n",
       "       'site latitude', 'site longitude', 'address', 'city', 'zip code',\n",
       "       'pollutant code', 'pollutant type(s)', 'total emissions',\n",
       "       'emissions uom', 'data set'],\n",
       "      dtype='object')"
      ]
     },
     "execution_count": 9,
     "metadata": {},
     "output_type": "execute_result"
    }
   ],
   "source": [
    "# Read data for Oakland and drop duplicate facility ids\n",
    "oak_facility = pd.read_csv('Data/oakland_facility_2017.csv', header = 0)\n",
    "# Display all columns in the dataframe\n",
    "oak_facility.columns"
   ]
  },
  {
   "cell_type": "code",
   "execution_count": 10,
   "metadata": {},
   "outputs": [],
   "source": [
    "# Drop columns that are not needed \n",
    "oak_facility.drop(columns = ['agency facility id', 'tri facility id','pollutant type(s)', 'data set',\n",
    "                             'site name', 'address','Unnamed: 0', 'county'], inplace=True)"
   ]
  },
  {
   "cell_type": "code",
   "execution_count": 11,
   "metadata": {},
   "outputs": [],
   "source": [
    "# Rename site latitude and site longitude column to just latitude and logitude\n",
    "oak_facility.rename(columns={\"site latitude\": \"latitude\", \"site longitude\": \"longitude\", 'facility source type':'source-category'}, inplace=True)"
   ]
  },
  {
   "cell_type": "code",
   "execution_count": 12,
   "metadata": {},
   "outputs": [
    {
     "data": {
      "text/plain": [
       "Index(['eis facility id', 'company name', 'source-category', 'latitude',\n",
       "       'longitude', 'city', 'zip code', 'pollutant code', 'total emissions',\n",
       "       'emissions uom'],\n",
       "      dtype='object')"
      ]
     },
     "execution_count": 12,
     "metadata": {},
     "output_type": "execute_result"
    }
   ],
   "source": [
    "# Display all columns in the dataframe\n",
    "oak_facility.columns"
   ]
  },
  {
   "cell_type": "code",
   "execution_count": 13,
   "metadata": {},
   "outputs": [],
   "source": [
    "# Filter the dataframe further for sources/facilities only in Oakland and neighbouring cities like San Leandro, Piedmont, Alameda and Berkeley\n",
    "oak_facility = oak_facility[(oak_facility['city'] == 'OAKLAND') | (oak_facility['city'] == 'SAN LEANDRO') | (oak_facility['city'] == 'BERKELEY')|\n",
    "                           (oak_facility['city'] == 'ALAMEDA') | (oak_facility['city'] == 'PIEDMONT')]"
   ]
  },
  {
   "cell_type": "code",
   "execution_count": 14,
   "metadata": {},
   "outputs": [],
   "source": [
    "### First clean up source-category column\n",
    "oak_facility['source-category'] = oak_facility['source-category'].replace({'Institutional (school, hospital, prison, etc.)':'Institution', 'Breweries/Distilleries/Wineries':'Breweries-Distilleries-Wineries'})\n",
    "oak_facility.replace(' ', '-',regex=True,inplace=True)\n",
    "oak_facility.replace(',', '-',regex=True,inplace=True)\n",
    "oak_facility.replace('---', '-',regex=True,inplace=True)\n",
    "oak_facility.replace('--', '-',regex=True,inplace=True)\n",
    "oak_facility.replace(np.nan, 'Unknown', regex= True, inplace=True)"
   ]
  },
  {
   "cell_type": "code",
   "execution_count": 15,
   "metadata": {},
   "outputs": [],
   "source": [
    "## Creating a separate dataframe for PM/Black carbon\n",
    "Oak_PM10_25 = oak_facility[oak_facility['pollutant code'] != 'NOX']"
   ]
  },
  {
   "cell_type": "code",
   "execution_count": 16,
   "metadata": {},
   "outputs": [],
   "source": [
    "PM10_pri = Oak_PM10_25[Oak_PM10_25['pollutant code']=='PM10-PRI']"
   ]
  },
  {
   "cell_type": "code",
   "execution_count": 17,
   "metadata": {},
   "outputs": [],
   "source": [
    "## Drop PM10-PRI rows in Oak_PM dataframe\n",
    "Oak_PM25  = Oak_PM10_25[Oak_PM10_25['pollutant code'] == 'PM25-PRI']"
   ]
  },
  {
   "cell_type": "code",
   "execution_count": 18,
   "metadata": {},
   "outputs": [],
   "source": [
    "Facility_PM = pd.merge(Oak_PM25, PM10_pri, left_on ='eis facility id', right_on ='eis facility id', how='inner')\n"
   ]
  },
  {
   "cell_type": "code",
   "execution_count": 19,
   "metadata": {},
   "outputs": [
    {
     "data": {
      "text/html": [
       "<div>\n",
       "<style scoped>\n",
       "    .dataframe tbody tr th:only-of-type {\n",
       "        vertical-align: middle;\n",
       "    }\n",
       "\n",
       "    .dataframe tbody tr th {\n",
       "        vertical-align: top;\n",
       "    }\n",
       "\n",
       "    .dataframe thead th {\n",
       "        text-align: right;\n",
       "    }\n",
       "</style>\n",
       "<table border=\"1\" class=\"dataframe\">\n",
       "  <thead>\n",
       "    <tr style=\"text-align: right;\">\n",
       "      <th></th>\n",
       "      <th>eis facility id</th>\n",
       "      <th>company name_x</th>\n",
       "      <th>source-category_x</th>\n",
       "      <th>latitude_x</th>\n",
       "      <th>longitude_x</th>\n",
       "      <th>city_x</th>\n",
       "      <th>zip code_x</th>\n",
       "      <th>pollutant code_x</th>\n",
       "      <th>total emissions_x</th>\n",
       "      <th>emissions uom_x</th>\n",
       "      <th>company name_y</th>\n",
       "      <th>source-category_y</th>\n",
       "      <th>latitude_y</th>\n",
       "      <th>longitude_y</th>\n",
       "      <th>city_y</th>\n",
       "      <th>zip code_y</th>\n",
       "      <th>pollutant code_y</th>\n",
       "      <th>total emissions_y</th>\n",
       "      <th>emissions uom_y</th>\n",
       "    </tr>\n",
       "  </thead>\n",
       "  <tbody>\n",
       "    <tr>\n",
       "      <td>0</td>\n",
       "      <td>126911</td>\n",
       "      <td>PACIFIC-BELL</td>\n",
       "      <td>Unknown</td>\n",
       "      <td>37.766850</td>\n",
       "      <td>-122.249720</td>\n",
       "      <td>ALAMEDA</td>\n",
       "      <td>94501</td>\n",
       "      <td>PM25-PRI</td>\n",
       "      <td>0.000731</td>\n",
       "      <td>TON</td>\n",
       "      <td>PACIFIC-BELL</td>\n",
       "      <td>Unknown</td>\n",
       "      <td>37.766850</td>\n",
       "      <td>-122.249720</td>\n",
       "      <td>ALAMEDA</td>\n",
       "      <td>94501</td>\n",
       "      <td>PM10-PRI</td>\n",
       "      <td>0.000749</td>\n",
       "      <td>TON</td>\n",
       "    </tr>\n",
       "    <tr>\n",
       "      <td>1</td>\n",
       "      <td>127111</td>\n",
       "      <td>PACIFIC-BELL</td>\n",
       "      <td>Unknown</td>\n",
       "      <td>37.867710</td>\n",
       "      <td>-122.267840</td>\n",
       "      <td>BERKELEY</td>\n",
       "      <td>94704</td>\n",
       "      <td>PM25-PRI</td>\n",
       "      <td>0.002173</td>\n",
       "      <td>TON</td>\n",
       "      <td>PACIFIC-BELL</td>\n",
       "      <td>Unknown</td>\n",
       "      <td>37.867710</td>\n",
       "      <td>-122.267840</td>\n",
       "      <td>BERKELEY</td>\n",
       "      <td>94704</td>\n",
       "      <td>PM10-PRI</td>\n",
       "      <td>0.002226</td>\n",
       "      <td>TON</td>\n",
       "    </tr>\n",
       "    <tr>\n",
       "      <td>2</td>\n",
       "      <td>127511</td>\n",
       "      <td>PACIFIC-BELL</td>\n",
       "      <td>Unknown</td>\n",
       "      <td>37.806030</td>\n",
       "      <td>-122.269460</td>\n",
       "      <td>OAKLAND</td>\n",
       "      <td>94612</td>\n",
       "      <td>PM25-PRI</td>\n",
       "      <td>0.008291</td>\n",
       "      <td>TON</td>\n",
       "      <td>PACIFIC-BELL</td>\n",
       "      <td>Unknown</td>\n",
       "      <td>37.806030</td>\n",
       "      <td>-122.269460</td>\n",
       "      <td>OAKLAND</td>\n",
       "      <td>94612</td>\n",
       "      <td>PM10-PRI</td>\n",
       "      <td>0.008494</td>\n",
       "      <td>TON</td>\n",
       "    </tr>\n",
       "    <tr>\n",
       "      <td>3</td>\n",
       "      <td>127611</td>\n",
       "      <td>PACIFIC-BELL</td>\n",
       "      <td>Unknown</td>\n",
       "      <td>37.784220</td>\n",
       "      <td>-122.222410</td>\n",
       "      <td>OAKLAND</td>\n",
       "      <td>94601</td>\n",
       "      <td>PM25-PRI</td>\n",
       "      <td>0.000706</td>\n",
       "      <td>TON</td>\n",
       "      <td>PACIFIC-BELL</td>\n",
       "      <td>Unknown</td>\n",
       "      <td>37.784220</td>\n",
       "      <td>-122.222410</td>\n",
       "      <td>OAKLAND</td>\n",
       "      <td>94601</td>\n",
       "      <td>PM10-PRI</td>\n",
       "      <td>0.000724</td>\n",
       "      <td>TON</td>\n",
       "    </tr>\n",
       "    <tr>\n",
       "      <td>4</td>\n",
       "      <td>127711</td>\n",
       "      <td>PACIFIC-BELL</td>\n",
       "      <td>Unknown</td>\n",
       "      <td>37.833360</td>\n",
       "      <td>-122.263070</td>\n",
       "      <td>OAKLAND</td>\n",
       "      <td>94609</td>\n",
       "      <td>PM25-PRI</td>\n",
       "      <td>0.001554</td>\n",
       "      <td>TON</td>\n",
       "      <td>PACIFIC-BELL</td>\n",
       "      <td>Unknown</td>\n",
       "      <td>37.833360</td>\n",
       "      <td>-122.263070</td>\n",
       "      <td>OAKLAND</td>\n",
       "      <td>94609</td>\n",
       "      <td>PM10-PRI</td>\n",
       "      <td>0.001592</td>\n",
       "      <td>TON</td>\n",
       "    </tr>\n",
       "    <tr>\n",
       "      <td>...</td>\n",
       "      <td>...</td>\n",
       "      <td>...</td>\n",
       "      <td>...</td>\n",
       "      <td>...</td>\n",
       "      <td>...</td>\n",
       "      <td>...</td>\n",
       "      <td>...</td>\n",
       "      <td>...</td>\n",
       "      <td>...</td>\n",
       "      <td>...</td>\n",
       "      <td>...</td>\n",
       "      <td>...</td>\n",
       "      <td>...</td>\n",
       "      <td>...</td>\n",
       "      <td>...</td>\n",
       "      <td>...</td>\n",
       "      <td>...</td>\n",
       "      <td>...</td>\n",
       "      <td>...</td>\n",
       "    </tr>\n",
       "    <tr>\n",
       "      <td>357</td>\n",
       "      <td>18778911</td>\n",
       "      <td>Unknown</td>\n",
       "      <td>Unknown</td>\n",
       "      <td>37.712960</td>\n",
       "      <td>-122.188680</td>\n",
       "      <td>SAN-LEANDRO</td>\n",
       "      <td>94577</td>\n",
       "      <td>PM25-PRI</td>\n",
       "      <td>22.124544</td>\n",
       "      <td>TON</td>\n",
       "      <td>Unknown</td>\n",
       "      <td>Unknown</td>\n",
       "      <td>37.712960</td>\n",
       "      <td>-122.188680</td>\n",
       "      <td>SAN-LEANDRO</td>\n",
       "      <td>94577</td>\n",
       "      <td>PM10-PRI</td>\n",
       "      <td>22.971518</td>\n",
       "      <td>TON</td>\n",
       "    </tr>\n",
       "    <tr>\n",
       "      <td>358</td>\n",
       "      <td>18779811</td>\n",
       "      <td>Unknown</td>\n",
       "      <td>Unknown</td>\n",
       "      <td>37.707820</td>\n",
       "      <td>-122.185500</td>\n",
       "      <td>SAN-LEANDRO</td>\n",
       "      <td>94577</td>\n",
       "      <td>PM25-PRI</td>\n",
       "      <td>0.000015</td>\n",
       "      <td>TON</td>\n",
       "      <td>Unknown</td>\n",
       "      <td>Unknown</td>\n",
       "      <td>37.707820</td>\n",
       "      <td>-122.185500</td>\n",
       "      <td>SAN-LEANDRO</td>\n",
       "      <td>94577</td>\n",
       "      <td>PM10-PRI</td>\n",
       "      <td>0.000015</td>\n",
       "      <td>TON</td>\n",
       "    </tr>\n",
       "    <tr>\n",
       "      <td>359</td>\n",
       "      <td>18781211</td>\n",
       "      <td>Unknown</td>\n",
       "      <td>Unknown</td>\n",
       "      <td>37.812106</td>\n",
       "      <td>-122.186447</td>\n",
       "      <td>OAKLAND</td>\n",
       "      <td>94621</td>\n",
       "      <td>PM25-PRI</td>\n",
       "      <td>0.000061</td>\n",
       "      <td>TON</td>\n",
       "      <td>Unknown</td>\n",
       "      <td>Unknown</td>\n",
       "      <td>37.812106</td>\n",
       "      <td>-122.186447</td>\n",
       "      <td>OAKLAND</td>\n",
       "      <td>94621</td>\n",
       "      <td>PM10-PRI</td>\n",
       "      <td>0.000061</td>\n",
       "      <td>TON</td>\n",
       "    </tr>\n",
       "    <tr>\n",
       "      <td>360</td>\n",
       "      <td>18782611</td>\n",
       "      <td>Unknown</td>\n",
       "      <td>Unknown</td>\n",
       "      <td>37.759959</td>\n",
       "      <td>-122.207782</td>\n",
       "      <td>OAKLAND</td>\n",
       "      <td>94621</td>\n",
       "      <td>PM25-PRI</td>\n",
       "      <td>0.992654</td>\n",
       "      <td>TON</td>\n",
       "      <td>Unknown</td>\n",
       "      <td>Unknown</td>\n",
       "      <td>37.759959</td>\n",
       "      <td>-122.207782</td>\n",
       "      <td>OAKLAND</td>\n",
       "      <td>94621</td>\n",
       "      <td>PM10-PRI</td>\n",
       "      <td>1.030213</td>\n",
       "      <td>TON</td>\n",
       "    </tr>\n",
       "    <tr>\n",
       "      <td>361</td>\n",
       "      <td>18787011</td>\n",
       "      <td>Unknown</td>\n",
       "      <td>Unknown</td>\n",
       "      <td>37.766939</td>\n",
       "      <td>-122.216336</td>\n",
       "      <td>OAKLAND</td>\n",
       "      <td>94621</td>\n",
       "      <td>PM25-PRI</td>\n",
       "      <td>0.079014</td>\n",
       "      <td>TON</td>\n",
       "      <td>Unknown</td>\n",
       "      <td>Unknown</td>\n",
       "      <td>37.766939</td>\n",
       "      <td>-122.216336</td>\n",
       "      <td>OAKLAND</td>\n",
       "      <td>94621</td>\n",
       "      <td>PM10-PRI</td>\n",
       "      <td>0.131690</td>\n",
       "      <td>TON</td>\n",
       "    </tr>\n",
       "  </tbody>\n",
       "</table>\n",
       "<p>362 rows × 19 columns</p>\n",
       "</div>"
      ],
      "text/plain": [
       "     eis facility id company name_x source-category_x  latitude_x  \\\n",
       "0             126911   PACIFIC-BELL           Unknown   37.766850   \n",
       "1             127111   PACIFIC-BELL           Unknown   37.867710   \n",
       "2             127511   PACIFIC-BELL           Unknown   37.806030   \n",
       "3             127611   PACIFIC-BELL           Unknown   37.784220   \n",
       "4             127711   PACIFIC-BELL           Unknown   37.833360   \n",
       "..               ...            ...               ...         ...   \n",
       "357         18778911        Unknown           Unknown   37.712960   \n",
       "358         18779811        Unknown           Unknown   37.707820   \n",
       "359         18781211        Unknown           Unknown   37.812106   \n",
       "360         18782611        Unknown           Unknown   37.759959   \n",
       "361         18787011        Unknown           Unknown   37.766939   \n",
       "\n",
       "     longitude_x       city_x  zip code_x pollutant code_x  total emissions_x  \\\n",
       "0    -122.249720      ALAMEDA       94501         PM25-PRI           0.000731   \n",
       "1    -122.267840     BERKELEY       94704         PM25-PRI           0.002173   \n",
       "2    -122.269460      OAKLAND       94612         PM25-PRI           0.008291   \n",
       "3    -122.222410      OAKLAND       94601         PM25-PRI           0.000706   \n",
       "4    -122.263070      OAKLAND       94609         PM25-PRI           0.001554   \n",
       "..           ...          ...         ...              ...                ...   \n",
       "357  -122.188680  SAN-LEANDRO       94577         PM25-PRI          22.124544   \n",
       "358  -122.185500  SAN-LEANDRO       94577         PM25-PRI           0.000015   \n",
       "359  -122.186447      OAKLAND       94621         PM25-PRI           0.000061   \n",
       "360  -122.207782      OAKLAND       94621         PM25-PRI           0.992654   \n",
       "361  -122.216336      OAKLAND       94621         PM25-PRI           0.079014   \n",
       "\n",
       "    emissions uom_x company name_y source-category_y  latitude_y  longitude_y  \\\n",
       "0               TON   PACIFIC-BELL           Unknown   37.766850  -122.249720   \n",
       "1               TON   PACIFIC-BELL           Unknown   37.867710  -122.267840   \n",
       "2               TON   PACIFIC-BELL           Unknown   37.806030  -122.269460   \n",
       "3               TON   PACIFIC-BELL           Unknown   37.784220  -122.222410   \n",
       "4               TON   PACIFIC-BELL           Unknown   37.833360  -122.263070   \n",
       "..              ...            ...               ...         ...          ...   \n",
       "357             TON        Unknown           Unknown   37.712960  -122.188680   \n",
       "358             TON        Unknown           Unknown   37.707820  -122.185500   \n",
       "359             TON        Unknown           Unknown   37.812106  -122.186447   \n",
       "360             TON        Unknown           Unknown   37.759959  -122.207782   \n",
       "361             TON        Unknown           Unknown   37.766939  -122.216336   \n",
       "\n",
       "          city_y  zip code_y pollutant code_y  total emissions_y  \\\n",
       "0        ALAMEDA       94501         PM10-PRI           0.000749   \n",
       "1       BERKELEY       94704         PM10-PRI           0.002226   \n",
       "2        OAKLAND       94612         PM10-PRI           0.008494   \n",
       "3        OAKLAND       94601         PM10-PRI           0.000724   \n",
       "4        OAKLAND       94609         PM10-PRI           0.001592   \n",
       "..           ...         ...              ...                ...   \n",
       "357  SAN-LEANDRO       94577         PM10-PRI          22.971518   \n",
       "358  SAN-LEANDRO       94577         PM10-PRI           0.000015   \n",
       "359      OAKLAND       94621         PM10-PRI           0.000061   \n",
       "360      OAKLAND       94621         PM10-PRI           1.030213   \n",
       "361      OAKLAND       94621         PM10-PRI           0.131690   \n",
       "\n",
       "    emissions uom_y  \n",
       "0               TON  \n",
       "1               TON  \n",
       "2               TON  \n",
       "3               TON  \n",
       "4               TON  \n",
       "..              ...  \n",
       "357             TON  \n",
       "358             TON  \n",
       "359             TON  \n",
       "360             TON  \n",
       "361             TON  \n",
       "\n",
       "[362 rows x 19 columns]"
      ]
     },
     "execution_count": 19,
     "metadata": {},
     "output_type": "execute_result"
    }
   ],
   "source": [
    "Facility_PM"
   ]
  },
  {
   "cell_type": "code",
   "execution_count": 20,
   "metadata": {},
   "outputs": [],
   "source": [
    "Facility_PM.drop(columns = ['zip code_x','pollutant code_x', 'emissions uom_x','company name_y','latitude_y','longitude_y',\n",
    "                      'city_y','zip code_y','pollutant code_y','emissions uom_x', 'source-category_y'], inplace=True)"
   ]
  },
  {
   "cell_type": "code",
   "execution_count": 21,
   "metadata": {},
   "outputs": [],
   "source": [
    "# Rename columns to meaningful names\n",
    "Facility_PM.rename(columns={\"latitude_x\": \"latitude\", \"longitude_x\": \"longitude\", \"city_x\": \"city\", \n",
    "                       \"total emissions_x\" : \"PM25\", \"total emissions_y\": \"PM10\", \"emissions uom_y\": \"units\", \n",
    "                           \"source-category_x\":\"source-category\", \"company name_x\":\"company\"}, inplace=True)"
   ]
  },
  {
   "cell_type": "code",
   "execution_count": 22,
   "metadata": {},
   "outputs": [
    {
     "data": {
      "text/html": [
       "<div>\n",
       "<style scoped>\n",
       "    .dataframe tbody tr th:only-of-type {\n",
       "        vertical-align: middle;\n",
       "    }\n",
       "\n",
       "    .dataframe tbody tr th {\n",
       "        vertical-align: top;\n",
       "    }\n",
       "\n",
       "    .dataframe thead th {\n",
       "        text-align: right;\n",
       "    }\n",
       "</style>\n",
       "<table border=\"1\" class=\"dataframe\">\n",
       "  <thead>\n",
       "    <tr style=\"text-align: right;\">\n",
       "      <th></th>\n",
       "      <th>eis facility id</th>\n",
       "      <th>company</th>\n",
       "      <th>source-category</th>\n",
       "      <th>latitude</th>\n",
       "      <th>longitude</th>\n",
       "      <th>city</th>\n",
       "      <th>PM25</th>\n",
       "      <th>PM10</th>\n",
       "      <th>units</th>\n",
       "    </tr>\n",
       "  </thead>\n",
       "  <tbody>\n",
       "    <tr>\n",
       "      <td>0</td>\n",
       "      <td>126911</td>\n",
       "      <td>PACIFIC-BELL</td>\n",
       "      <td>Unknown</td>\n",
       "      <td>37.76685</td>\n",
       "      <td>-122.24972</td>\n",
       "      <td>ALAMEDA</td>\n",
       "      <td>0.000731</td>\n",
       "      <td>0.000749</td>\n",
       "      <td>TON</td>\n",
       "    </tr>\n",
       "    <tr>\n",
       "      <td>1</td>\n",
       "      <td>127111</td>\n",
       "      <td>PACIFIC-BELL</td>\n",
       "      <td>Unknown</td>\n",
       "      <td>37.86771</td>\n",
       "      <td>-122.26784</td>\n",
       "      <td>BERKELEY</td>\n",
       "      <td>0.002173</td>\n",
       "      <td>0.002226</td>\n",
       "      <td>TON</td>\n",
       "    </tr>\n",
       "    <tr>\n",
       "      <td>2</td>\n",
       "      <td>127511</td>\n",
       "      <td>PACIFIC-BELL</td>\n",
       "      <td>Unknown</td>\n",
       "      <td>37.80603</td>\n",
       "      <td>-122.26946</td>\n",
       "      <td>OAKLAND</td>\n",
       "      <td>0.008291</td>\n",
       "      <td>0.008494</td>\n",
       "      <td>TON</td>\n",
       "    </tr>\n",
       "    <tr>\n",
       "      <td>3</td>\n",
       "      <td>127611</td>\n",
       "      <td>PACIFIC-BELL</td>\n",
       "      <td>Unknown</td>\n",
       "      <td>37.78422</td>\n",
       "      <td>-122.22241</td>\n",
       "      <td>OAKLAND</td>\n",
       "      <td>0.000706</td>\n",
       "      <td>0.000724</td>\n",
       "      <td>TON</td>\n",
       "    </tr>\n",
       "    <tr>\n",
       "      <td>4</td>\n",
       "      <td>127711</td>\n",
       "      <td>PACIFIC-BELL</td>\n",
       "      <td>Unknown</td>\n",
       "      <td>37.83336</td>\n",
       "      <td>-122.26307</td>\n",
       "      <td>OAKLAND</td>\n",
       "      <td>0.001554</td>\n",
       "      <td>0.001592</td>\n",
       "      <td>TON</td>\n",
       "    </tr>\n",
       "  </tbody>\n",
       "</table>\n",
       "</div>"
      ],
      "text/plain": [
       "   eis facility id       company source-category  latitude  longitude  \\\n",
       "0           126911  PACIFIC-BELL         Unknown  37.76685 -122.24972   \n",
       "1           127111  PACIFIC-BELL         Unknown  37.86771 -122.26784   \n",
       "2           127511  PACIFIC-BELL         Unknown  37.80603 -122.26946   \n",
       "3           127611  PACIFIC-BELL         Unknown  37.78422 -122.22241   \n",
       "4           127711  PACIFIC-BELL         Unknown  37.83336 -122.26307   \n",
       "\n",
       "       city      PM25      PM10 units  \n",
       "0   ALAMEDA  0.000731  0.000749   TON  \n",
       "1  BERKELEY  0.002173  0.002226   TON  \n",
       "2   OAKLAND  0.008291  0.008494   TON  \n",
       "3   OAKLAND  0.000706  0.000724   TON  \n",
       "4   OAKLAND  0.001554  0.001592   TON  "
      ]
     },
     "execution_count": 22,
     "metadata": {},
     "output_type": "execute_result"
    }
   ],
   "source": [
    "Facility_PM.head()"
   ]
  },
  {
   "cell_type": "code",
   "execution_count": 23,
   "metadata": {},
   "outputs": [
    {
     "data": {
      "text/plain": [
       "(362, 9)"
      ]
     },
     "execution_count": 23,
     "metadata": {},
     "output_type": "execute_result"
    }
   ],
   "source": [
    "Facility_PM.shape"
   ]
  },
  {
   "cell_type": "markdown",
   "metadata": {},
   "source": [
    "## TRAFFIC DATA"
   ]
  },
  {
   "cell_type": "code",
   "execution_count": 25,
   "metadata": {},
   "outputs": [],
   "source": [
    "### Load Annual Average Daily Traffic (AADT) file from Caltrans\n",
    "traffic = pd.read_csv('Data/Traffic_Oakland_AADT.csv', header = 0)"
   ]
  },
  {
   "cell_type": "code",
   "execution_count": 26,
   "metadata": {},
   "outputs": [],
   "source": [
    "# Drop columns that are unneccessary and choose only Ahead_AADT, along with N/E latitude and longitude\n",
    "traffic.drop(columns = ['OBJECTID','District','Route','County', 'Postmile', \n",
    "                        'Back_pk_h', 'Back_pk_m', 'Ahead_pk_h', 'Ahead_pk_m','Back_AADT','Lat_S_or_W', 'Lon_S_or_W'], inplace=True)"
   ]
  },
  {
   "cell_type": "code",
   "execution_count": 27,
   "metadata": {},
   "outputs": [],
   "source": [
    "traffic.rename(columns={\"Ahead_AADT\":\"AADT\", \"Lat_N_or_E\":\"Latitude\", \"Lon_N_or_E\":\"Longitude\", \"Descriptn\":\"Description\"}, inplace=True)"
   ]
  },
  {
   "cell_type": "code",
   "execution_count": 28,
   "metadata": {},
   "outputs": [
    {
     "data": {
      "text/html": [
       "<div>\n",
       "<style scoped>\n",
       "    .dataframe tbody tr th:only-of-type {\n",
       "        vertical-align: middle;\n",
       "    }\n",
       "\n",
       "    .dataframe tbody tr th {\n",
       "        vertical-align: top;\n",
       "    }\n",
       "\n",
       "    .dataframe thead th {\n",
       "        text-align: right;\n",
       "    }\n",
       "</style>\n",
       "<table border=\"1\" class=\"dataframe\">\n",
       "  <thead>\n",
       "    <tr style=\"text-align: right;\">\n",
       "      <th></th>\n",
       "      <th>Description</th>\n",
       "      <th>AADT</th>\n",
       "      <th>Latitude</th>\n",
       "      <th>Longitude</th>\n",
       "    </tr>\n",
       "  </thead>\n",
       "  <tbody>\n",
       "    <tr>\n",
       "      <td>0</td>\n",
       "      <td>ALAMEDA, BROADWAY/ ENCINAL AVENUE</td>\n",
       "      <td>8700</td>\n",
       "      <td>37.760576</td>\n",
       "      <td>-122.240708</td>\n",
       "    </tr>\n",
       "    <tr>\n",
       "      <td>1</td>\n",
       "      <td>ALAMEDA, CENTRAL AVENUE/ SHERMAN STREET</td>\n",
       "      <td>9500</td>\n",
       "      <td>37.770910</td>\n",
       "      <td>-122.263477</td>\n",
       "    </tr>\n",
       "    <tr>\n",
       "      <td>2</td>\n",
       "      <td>JCT. RTE. 260 NORTH</td>\n",
       "      <td>0</td>\n",
       "      <td>37.771459</td>\n",
       "      <td>-122.276894</td>\n",
       "    </tr>\n",
       "    <tr>\n",
       "      <td>3</td>\n",
       "      <td>OAKLAND, JCT. RTE. 880</td>\n",
       "      <td>22900</td>\n",
       "      <td>37.769397</td>\n",
       "      <td>-122.221166</td>\n",
       "    </tr>\n",
       "    <tr>\n",
       "      <td>4</td>\n",
       "      <td>OAKLAND, EAST 12TH STREET</td>\n",
       "      <td>16400</td>\n",
       "      <td>37.772068</td>\n",
       "      <td>-122.217378</td>\n",
       "    </tr>\n",
       "  </tbody>\n",
       "</table>\n",
       "</div>"
      ],
      "text/plain": [
       "                               Description   AADT   Latitude   Longitude\n",
       "0        ALAMEDA, BROADWAY/ ENCINAL AVENUE   8700  37.760576 -122.240708\n",
       "1  ALAMEDA, CENTRAL AVENUE/ SHERMAN STREET   9500  37.770910 -122.263477\n",
       "2                      JCT. RTE. 260 NORTH      0  37.771459 -122.276894\n",
       "3                   OAKLAND, JCT. RTE. 880  22900  37.769397 -122.221166\n",
       "4                OAKLAND, EAST 12TH STREET  16400  37.772068 -122.217378"
      ]
     },
     "execution_count": 28,
     "metadata": {},
     "output_type": "execute_result"
    }
   ],
   "source": [
    "traffic.head()"
   ]
  },
  {
   "cell_type": "code",
   "execution_count": 29,
   "metadata": {},
   "outputs": [],
   "source": [
    "# Taking a closer look at the traffic data, there are some intersections where the AADT is zero, or the latitude and longitude are zero. We want to drop these rows\n",
    "traffic = traffic[(traffic['Longitude']<-1) & (traffic['AADT']>1)]"
   ]
  },
  {
   "cell_type": "code",
   "execution_count": 30,
   "metadata": {},
   "outputs": [
    {
     "data": {
      "text/plain": [
       "(71, 4)"
      ]
     },
     "execution_count": 30,
     "metadata": {},
     "output_type": "execute_result"
    }
   ],
   "source": [
    "traffic.shape"
   ]
  },
  {
   "cell_type": "markdown",
   "metadata": {},
   "source": [
    "### Creating dataframes using GeoPandas\n",
    "\n"
   ]
  },
  {
   "cell_type": "code",
   "execution_count": 31,
   "metadata": {},
   "outputs": [],
   "source": [
    "# Create a geopandas dataframe with traffic data\n",
    "geometry_traffic = [Point(xy) for xy in zip(traffic['Longitude'], traffic['Latitude'])]\n",
    "geo_df_traffic = gpd.GeoDataFrame(traffic, crs = crs, geometry = geometry_traffic)"
   ]
  },
  {
   "cell_type": "code",
   "execution_count": 32,
   "metadata": {},
   "outputs": [],
   "source": [
    "# Create a list of x and y coordinates for the PM facility data in Oakland using geopandas\n",
    "geometry_facility_PM = [Point(xy) for xy in zip(Facility_PM['longitude'], Facility_PM['latitude'])]\n",
    "geo_df_facility_PM = gpd.GeoDataFrame(Facility_PM, crs = crs, geometry = geometry_facility_PM)"
   ]
  },
  {
   "cell_type": "code",
   "execution_count": 33,
   "metadata": {},
   "outputs": [],
   "source": [
    "# Create a list of x and y coordinates for the Black Carbon concentration data using geopandas\n",
    "geometry_df_BC = [Point(xy) for xy in zip(BC_df['Longitude'], BC_df['Latitude'])]\n",
    "geo_df_BC = gpd.GeoDataFrame(BC_df, crs = crs, geometry = geometry_df_BC)"
   ]
  },
  {
   "cell_type": "markdown",
   "metadata": {},
   "source": [
    "### Find Closest Facility and Traffic Intersection to each point in the EDF data"
   ]
  },
  {
   "cell_type": "code",
   "execution_count": 34,
   "metadata": {},
   "outputs": [],
   "source": [
    "#### Unary Union of the geo_df geometry - Closest Facility\n",
    "\n",
    "pts = geo_df_facility_PM.geometry.unary_union\n",
    "def near(point, pts=pts):\n",
    "     # find the nearest point and return the corresponding Station name\n",
    "     nearest = geo_df_facility_PM.geometry == nearest_points(point, pts)[1]\n",
    "     return geo_df_facility_PM[nearest]['eis facility id'].to_numpy()[0]\n",
    "geo_df_BC['Nearest_Facility'] = geo_df_BC.apply(lambda row: near(row.geometry), axis=1)"
   ]
  },
  {
   "cell_type": "code",
   "execution_count": 35,
   "metadata": {},
   "outputs": [],
   "source": [
    "#### Unary Union of the geo_df geometry - Closest Traffic Intersection\n",
    "\n",
    "pts = geo_df_traffic.geometry.unary_union\n",
    "def near(point, pts=pts):\n",
    "     # find the nearest point and return the corresponding Station name\n",
    "     nearest = geo_df_traffic.geometry == nearest_points(point, pts)[1]\n",
    "     return geo_df_traffic[nearest]['Description'].to_numpy()[0]\n",
    "geo_df_BC['Nearest_Traffic'] = geo_df_BC.apply(lambda row: near(row.geometry), axis=1)"
   ]
  },
  {
   "cell_type": "code",
   "execution_count": 38,
   "metadata": {},
   "outputs": [],
   "source": [
    "#### Merge df_BC with Oak_PM on Facility ID\n",
    "df_BC_merge = pd.merge(left=BC_df, right=Facility_PM, left_on='Nearest_Facility', right_on='eis facility id')"
   ]
  },
  {
   "cell_type": "code",
   "execution_count": 39,
   "metadata": {},
   "outputs": [],
   "source": [
    "#### Merge above dataframe with traffic\n",
    "df_BC_merge_traffic = pd.merge(left=df_BC_merge, right=traffic, left_on='Nearest_Traffic', right_on='Description')"
   ]
  },
  {
   "cell_type": "code",
   "execution_count": 40,
   "metadata": {},
   "outputs": [],
   "source": [
    "# Rename columns\n",
    "df_BC_merge_traffic.rename(columns={'Latitude_x':'Latitude_Conc','Longitude_x':'Longitude_Conc','latitude':'Latitude_Fac','longitude':'Longitude_Fac','Latitude_y':'Latitude_Traf','Longitude_y':'Longitude_Traf'}, inplace=True)"
   ]
  },
  {
   "cell_type": "code",
   "execution_count": 41,
   "metadata": {},
   "outputs": [],
   "source": [
    "#### Create an empty list call dist which stores all the distances between each point (facility and traffic)\n",
    "dist_fac = []\n",
    "dist_traf = []"
   ]
  },
  {
   "cell_type": "code",
   "execution_count": 42,
   "metadata": {},
   "outputs": [],
   "source": [
    "### Defining a function to calculate the distance between two GPS coordinates (latitude and longitude)\n",
    "def distance(origin, destination):\n",
    "    lat1, lon1 = origin\n",
    "    lat2, lon2 = destination\n",
    "    radius = 6371 # km\n",
    "\n",
    "    dlat = math.radians(lat2-lat1)\n",
    "    dlon = math.radians(lon2-lon1)\n",
    "    a = math.sin(dlat/2) * math.sin(dlat/2) + math.cos(math.radians(lat1)) \\\n",
    "        * math.cos(math.radians(lat2)) * math.sin(dlon/2) * math.sin(dlon/2)\n",
    "    c = 2 * math.atan2(math.sqrt(a), math.sqrt(1-a))\n",
    "    d = radius * c\n",
    "\n",
    "    return d"
   ]
  },
  {
   "cell_type": "code",
   "execution_count": 43,
   "metadata": {},
   "outputs": [],
   "source": [
    "for row in df_BC_merge_traffic.iterrows():\n",
    "    dist_fac.append(distance((row[1]['Latitude_Conc'], row[1]['Longitude_Conc']), (row[1]['Latitude_Fac'], row[1]['Longitude_Fac'])))\n",
    "    dist_traf.append(distance((row[1]['Latitude_Conc'], row[1]['Longitude_Conc']), (row[1]['Latitude_Traf'], row[1]['Longitude_Traf'])))"
   ]
  },
  {
   "cell_type": "code",
   "execution_count": 44,
   "metadata": {},
   "outputs": [],
   "source": [
    "df_BC_merge_traffic['Dist_Facility_mi'] = np.array(dist_fac)*0.621\n",
    "df_BC_merge_traffic['Dist_Traffic_mi'] = np.array(dist_traf)*0.621"
   ]
  },
  {
   "cell_type": "code",
   "execution_count": 49,
   "metadata": {},
   "outputs": [
    {
     "data": {
      "text/html": [
       "<div>\n",
       "<style scoped>\n",
       "    .dataframe tbody tr th:only-of-type {\n",
       "        vertical-align: middle;\n",
       "    }\n",
       "\n",
       "    .dataframe tbody tr th {\n",
       "        vertical-align: top;\n",
       "    }\n",
       "\n",
       "    .dataframe thead th {\n",
       "        text-align: right;\n",
       "    }\n",
       "</style>\n",
       "<table border=\"1\" class=\"dataframe\">\n",
       "  <thead>\n",
       "    <tr style=\"text-align: right;\">\n",
       "      <th></th>\n",
       "      <th>Longitude_Conc</th>\n",
       "      <th>Latitude_Conc</th>\n",
       "      <th>BC Value</th>\n",
       "      <th>TimePeriod</th>\n",
       "      <th>Conc_geo</th>\n",
       "      <th>Nearest_Facility</th>\n",
       "      <th>eis facility id</th>\n",
       "      <th>source-category</th>\n",
       "      <th>Latitude_Fac</th>\n",
       "      <th>Longitude_Fac</th>\n",
       "      <th>PM25</th>\n",
       "      <th>PM10</th>\n",
       "      <th>Fac_geo</th>\n",
       "      <th>AADT</th>\n",
       "      <th>Latitude_Traf</th>\n",
       "      <th>Longitude_Traf</th>\n",
       "      <th>Traf_geo</th>\n",
       "      <th>Dist_Facility_mi</th>\n",
       "      <th>Dist_Traffic_mi</th>\n",
       "    </tr>\n",
       "  </thead>\n",
       "  <tbody>\n",
       "    <tr>\n",
       "      <td>0</td>\n",
       "      <td>-122.322594</td>\n",
       "      <td>37.806781</td>\n",
       "      <td>0.818032</td>\n",
       "      <td>Jun2015-May2016</td>\n",
       "      <td>POINT (-122.32259 37.80678)</td>\n",
       "      <td>13747011</td>\n",
       "      <td>13747011</td>\n",
       "      <td>Unknown</td>\n",
       "      <td>37.80925</td>\n",
       "      <td>-122.31539</td>\n",
       "      <td>0.000225</td>\n",
       "      <td>0.00023</td>\n",
       "      <td>POINT (-122.31539 37.80925)</td>\n",
       "      <td>278000</td>\n",
       "      <td>37.823843</td>\n",
       "      <td>-122.313766</td>\n",
       "      <td>POINT (-122.31377 37.82384)</td>\n",
       "      <td>0.428407</td>\n",
       "      <td>1.272802</td>\n",
       "    </tr>\n",
       "    <tr>\n",
       "      <td>1</td>\n",
       "      <td>-122.322310</td>\n",
       "      <td>37.806150</td>\n",
       "      <td>0.551475</td>\n",
       "      <td>Jun2015-May2016</td>\n",
       "      <td>POINT (-122.32231 37.80615)</td>\n",
       "      <td>13747011</td>\n",
       "      <td>13747011</td>\n",
       "      <td>Unknown</td>\n",
       "      <td>37.80925</td>\n",
       "      <td>-122.31539</td>\n",
       "      <td>0.000225</td>\n",
       "      <td>0.00023</td>\n",
       "      <td>POINT (-122.31539 37.80925)</td>\n",
       "      <td>278000</td>\n",
       "      <td>37.823843</td>\n",
       "      <td>-122.313766</td>\n",
       "      <td>POINT (-122.31377 37.82384)</td>\n",
       "      <td>0.433997</td>\n",
       "      <td>1.307623</td>\n",
       "    </tr>\n",
       "    <tr>\n",
       "      <td>2</td>\n",
       "      <td>-122.322301</td>\n",
       "      <td>37.806420</td>\n",
       "      <td>0.593712</td>\n",
       "      <td>Jun2015-May2016</td>\n",
       "      <td>POINT (-122.32230 37.80642)</td>\n",
       "      <td>13747011</td>\n",
       "      <td>13747011</td>\n",
       "      <td>Unknown</td>\n",
       "      <td>37.80925</td>\n",
       "      <td>-122.31539</td>\n",
       "      <td>0.000225</td>\n",
       "      <td>0.00023</td>\n",
       "      <td>POINT (-122.31539 37.80925)</td>\n",
       "      <td>278000</td>\n",
       "      <td>37.823843</td>\n",
       "      <td>-122.313766</td>\n",
       "      <td>POINT (-122.31377 37.82384)</td>\n",
       "      <td>0.424656</td>\n",
       "      <td>1.290023</td>\n",
       "    </tr>\n",
       "    <tr>\n",
       "      <td>3</td>\n",
       "      <td>-122.322267</td>\n",
       "      <td>37.806689</td>\n",
       "      <td>0.739341</td>\n",
       "      <td>Jun2015-May2016</td>\n",
       "      <td>POINT (-122.32227 37.80669)</td>\n",
       "      <td>13747011</td>\n",
       "      <td>13747011</td>\n",
       "      <td>Unknown</td>\n",
       "      <td>37.80925</td>\n",
       "      <td>-122.31539</td>\n",
       "      <td>0.000225</td>\n",
       "      <td>0.00023</td>\n",
       "      <td>POINT (-122.31539 37.80925)</td>\n",
       "      <td>278000</td>\n",
       "      <td>37.823843</td>\n",
       "      <td>-122.313766</td>\n",
       "      <td>POINT (-122.31377 37.82384)</td>\n",
       "      <td>0.414775</td>\n",
       "      <td>1.272057</td>\n",
       "    </tr>\n",
       "    <tr>\n",
       "      <td>4</td>\n",
       "      <td>-122.322262</td>\n",
       "      <td>37.806720</td>\n",
       "      <td>0.701457</td>\n",
       "      <td>Jun2015-May2016</td>\n",
       "      <td>POINT (-122.32226 37.80672)</td>\n",
       "      <td>13747011</td>\n",
       "      <td>13747011</td>\n",
       "      <td>Unknown</td>\n",
       "      <td>37.80925</td>\n",
       "      <td>-122.31539</td>\n",
       "      <td>0.000225</td>\n",
       "      <td>0.00023</td>\n",
       "      <td>POINT (-122.31539 37.80925)</td>\n",
       "      <td>278000</td>\n",
       "      <td>37.823843</td>\n",
       "      <td>-122.313766</td>\n",
       "      <td>POINT (-122.31377 37.82384)</td>\n",
       "      <td>0.413605</td>\n",
       "      <td>1.269966</td>\n",
       "    </tr>\n",
       "  </tbody>\n",
       "</table>\n",
       "</div>"
      ],
      "text/plain": [
       "   Longitude_Conc  Latitude_Conc  BC Value       TimePeriod  \\\n",
       "0     -122.322594      37.806781  0.818032  Jun2015-May2016   \n",
       "1     -122.322310      37.806150  0.551475  Jun2015-May2016   \n",
       "2     -122.322301      37.806420  0.593712  Jun2015-May2016   \n",
       "3     -122.322267      37.806689  0.739341  Jun2015-May2016   \n",
       "4     -122.322262      37.806720  0.701457  Jun2015-May2016   \n",
       "\n",
       "                      Conc_geo  Nearest_Facility  eis facility id  \\\n",
       "0  POINT (-122.32259 37.80678)          13747011         13747011   \n",
       "1  POINT (-122.32231 37.80615)          13747011         13747011   \n",
       "2  POINT (-122.32230 37.80642)          13747011         13747011   \n",
       "3  POINT (-122.32227 37.80669)          13747011         13747011   \n",
       "4  POINT (-122.32226 37.80672)          13747011         13747011   \n",
       "\n",
       "  source-category  Latitude_Fac  Longitude_Fac      PM25     PM10  \\\n",
       "0         Unknown      37.80925     -122.31539  0.000225  0.00023   \n",
       "1         Unknown      37.80925     -122.31539  0.000225  0.00023   \n",
       "2         Unknown      37.80925     -122.31539  0.000225  0.00023   \n",
       "3         Unknown      37.80925     -122.31539  0.000225  0.00023   \n",
       "4         Unknown      37.80925     -122.31539  0.000225  0.00023   \n",
       "\n",
       "                       Fac_geo    AADT  Latitude_Traf  Longitude_Traf  \\\n",
       "0  POINT (-122.31539 37.80925)  278000      37.823843     -122.313766   \n",
       "1  POINT (-122.31539 37.80925)  278000      37.823843     -122.313766   \n",
       "2  POINT (-122.31539 37.80925)  278000      37.823843     -122.313766   \n",
       "3  POINT (-122.31539 37.80925)  278000      37.823843     -122.313766   \n",
       "4  POINT (-122.31539 37.80925)  278000      37.823843     -122.313766   \n",
       "\n",
       "                      Traf_geo  Dist_Facility_mi  Dist_Traffic_mi  \n",
       "0  POINT (-122.31377 37.82384)          0.428407         1.272802  \n",
       "1  POINT (-122.31377 37.82384)          0.433997         1.307623  \n",
       "2  POINT (-122.31377 37.82384)          0.424656         1.290023  \n",
       "3  POINT (-122.31377 37.82384)          0.414775         1.272057  \n",
       "4  POINT (-122.31377 37.82384)          0.413605         1.269966  "
      ]
     },
     "execution_count": 49,
     "metadata": {},
     "output_type": "execute_result"
    }
   ],
   "source": [
    "df_BC_merge_traffic.head()"
   ]
  },
  {
   "cell_type": "code",
   "execution_count": 48,
   "metadata": {},
   "outputs": [],
   "source": [
    "#### Drop columns from df_BC_merge that are not needed anymore\n",
    "df_BC_merge_traffic.drop(columns = ['company','city','units', 'Description', 'Nearest_Traffic'], inplace=True)"
   ]
  },
  {
   "cell_type": "code",
   "execution_count": 46,
   "metadata": {},
   "outputs": [],
   "source": [
    "#### Rename columns\n",
    "df_BC_merge_traffic.rename(columns = {'geometry_x':'Conc_geo', 'geometry_y':'Fac_geo','geometry':'Traf_geo'}, inplace=True)"
   ]
  },
  {
   "cell_type": "code",
   "execution_count": 50,
   "metadata": {},
   "outputs": [],
   "source": [
    "heatmap_df = df_BC_merge_traffic[['BC Value','Dist_Facility_mi','Dist_Traffic_mi']]"
   ]
  },
  {
   "cell_type": "code",
   "execution_count": 51,
   "metadata": {},
   "outputs": [],
   "source": [
    "corr= heatmap_df.corr()"
   ]
  },
  {
   "cell_type": "code",
   "execution_count": 52,
   "metadata": {},
   "outputs": [
    {
     "name": "stderr",
     "output_type": "stream",
     "text": [
      "/home/shridhar/anaconda3/lib/python3.7/site-packages/ipykernel_launcher.py:1: FutureWarning: Method .as_matrix will be removed in a future version. Use .values instead.\n",
      "  \"\"\"Entry point for launching an IPython kernel.\n"
     ]
    }
   ],
   "source": [
    "arr_corr = corr.as_matrix()"
   ]
  },
  {
   "cell_type": "code",
   "execution_count": 54,
   "metadata": {},
   "outputs": [
    {
     "name": "stdout",
     "output_type": "stream",
     "text": [
      "module://ipykernel.pylab.backend_inline\n"
     ]
    },
    {
     "data": {
      "image/png": "[encoded data removed]",
      "text/plain": [
       "<Figure size 720x720 with 2 Axes>"
      ]
     },
     "metadata": {
      "needs_background": "light"
     },
     "output_type": "display_data"
    }
   ],
   "source": [
    "print(plt.get_backend())\n",
    "\n",
    "# close any existing plots\n",
    "plt.close(\"all\")\n",
    "\n",
    "# mask out the top triangle\n",
    "arr_corr[np.triu_indices_from(arr_corr)] = np.nan\n",
    "\n",
    "fig, ax = plt.subplots(figsize=(10, 10))\n",
    "\n",
    "hm = sns.heatmap(arr_corr, cbar=True, vmin = -1, vmax = 1, center = 0,\n",
    "                 fmt='.2f', annot_kws={'size': 8}, annot=True, \n",
    "                 square=False, cmap = 'coolwarm')\n",
    "#cmap=plt.cm.Blues\n",
    "\n",
    "ticks = np.arange(corr.shape[0]) + 0.5\n",
    "ax.set_xticks(ticks)\n",
    "ax.set_xticklabels(corr.columns, rotation=90, fontsize=8)\n",
    "ax.set_yticks(ticks)\n",
    "ax.set_yticklabels(corr.index, rotation=360, fontsize=8)\n",
    "\n",
    "ax.set_title('correlation matrix')\n",
    "plt.tight_layout()\n",
    "#plt.savefig(\"corr_matrix_incl_anno_double.png\", dpi=300)"
   ]
  },
  {
   "cell_type": "code",
   "execution_count": null,
   "metadata": {},
   "outputs": [],
   "source": []
  }
 ],
 "metadata": {
  "kernelspec": {
   "display_name": "Python 3",
   "language": "python",
   "name": "python3"
  },
  "language_info": {
   "codemirror_mode": {
    "name": "ipython",
    "version": 3
   },
   "file_extension": ".py",
   "mimetype": "text/x-python",
   "name": "python",
   "nbconvert_exporter": "python",
   "pygments_lexer": "ipython3",
   "version": "3.7.4"
  }
 },
 "nbformat": 4,
 "nbformat_minor": 2
}
